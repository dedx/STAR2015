{
 "cells": [
  {
   "cell_type": "markdown",
   "metadata": {},
   "source": [
    "# Coding in the Classroom"
   ]
  },
  {
   "cell_type": "markdown",
   "metadata": {},
   "source": [
    "**Jennifer Klay** [jklay@calpoly.edu](mailto:jklay@calpoly.edu)\n",
    "\n",
    "California Polytechnic State University, San Luis Obispo"
   ]
  },
  {
   "cell_type": "markdown",
   "metadata": {},
   "source": [
    "## Description "
   ]
  },
  {
   "cell_type": "markdown",
   "metadata": {},
   "source": [
    "Coding and computer programming are essential skills for 21st century learners but how can we provide opportunities to build such skills in the classroom?  Open source tools and programming languages with simple and natural syntax provide one avenue.  In this workshop I will introduce participants to the Python programming language using the IPython/Jupyter notebook.  I will present ways to help students learn to practice algorithmic thinking, to work together to problem solve, and to apply the computer to solve problems that interest them.  In addition, a variety of useful resources for developing lessons and integrating coding into existing curricula will be discussed."
   ]
  },
  {
   "cell_type": "markdown",
   "metadata": {},
   "source": [
    "**Audience:**  Aspiring or early-career K-12 STEM teachers hoping to include research/computing in the classroom.\n",
    "\n",
    "**Assumed programming experience:**  None\n",
    "\n",
    "The complete set of materials for this workshop are available online at [Github](https://github.com/dedx/STAR2015)."
   ]
  },
  {
   "cell_type": "markdown",
   "metadata": {},
   "source": [
    "---"
   ]
  },
  {
   "cell_type": "markdown",
   "metadata": {},
   "source": [
    "# 1. Introduction"
   ]
  },
  {
   "cell_type": "markdown",
   "metadata": {},
   "source": [
    "This notebook provides a roadmap to help teachers bring coding and programming concepts to the classroom through project-based learning.  With some basic programming skills you can tackle a wide array of interesting and instructive problems.  \n",
    "\n",
    "What are some skills that we wish students to gain?\n",
    "\n",
    "* Practice algorithmic thinking\n",
    "* Break complex problems into smaller, more manageable parts\n",
    "* Work together to problem solve\n",
    "* Figure out how to get unstuck/find help when things don't work as expected\n",
    "* Apply the computer to problems they want to solve\n",
    "* Find/identify interesting problems the computer can help them solve\n",
    "\n",
    "There are several methods for helping students build their programming skills.  In particular, encouraging them to program in pairs or groups will help them brainstorm solutions while decomposing a problem into the sequence of steps taken to solve a problem - an algorithm. Once they have the steps of a solution outlined, they can attempt to put their process into the syntax of a computing language.  \n",
    "\n",
    "There are some best practices for writing effective programs that even seasoned coders don't always follow.  Nevertheless most programmers would agree that the following set of practices are helpful and effective.  One thing you can do to encourage students is to ask them to periodically evaluate their own work throughout the development process and demonstrate how they are applying these practices.  Eventually they won't need to be prompted, as the practices will become second-nature. \n",
    "\n",
    "###Some best practices for writing effective programs\n",
    "\n",
    "* Program together (in pairs or groups)\n",
    "* Deconstruct a problem into simple steps and create a scaffold of the full program from the start - some parts will be empty or placeholders until their logic can be filled in.\n",
    "* Develop \"pseudo-code\" (an informal description of the algorithm that uses the structural conventions of a programming language, but is intended for human reading rather than machine reading) for more complex components to work out the logic\n",
    "* Fill in the \"guts\" of the program components\n",
    "* Test each component individually to verify it gives expected results with a known input and output\n",
    "* Document the code as it is developed, describing the purpose of all functions, their inputs and outputs, and the purpose of the full program and how it all fits together\n",
    "* Demonstrate the program works and (to the best of your ability to judge) gives meaningful results\n",
    "\n"
   ]
  },
  {
   "cell_type": "markdown",
   "metadata": {},
   "source": [
    "These basic goals and guidelines are applicable to any programming language or platform.  For beginning coders, it is critical to make the entry point as easily accessible as possible within a framework that also provides a comprehensive set of tools that will enable them to expand beyond the simplest concepts.  The tools suggested here provide such a framework."
   ]
  },
  {
   "cell_type": "markdown",
   "metadata": {},
   "source": [
    "---"
   ]
  },
  {
   "cell_type": "markdown",
   "metadata": {},
   "source": [
    "# 2. Tools"
   ]
  },
  {
   "cell_type": "markdown",
   "metadata": {},
   "source": [
    "##[IPython](http://ipython.org/)/[Jupyter](http://jupyter.org/)"
   ]
  },
  {
   "cell_type": "markdown",
   "metadata": {},
   "source": [
    "The [IPython Notebook](http://ipython.org/) (the \"I\" in IPython stands for interactive) is an interactive computational environment, in which you can combine code execution, rich text, mathematics, plots and rich media.  It is a great platform for learning to program and for solving and presenting complex problems.  \n",
    "\n",
    "The notebook runs inside a web browser and can be easily installed with the [Python programming language](https://www.python.org/) and a comprehensive library of scientific computing tools using the \"[Anaconda](https://store.continuum.io/cshop/anaconda/)\" package provided **FREE** by [Continuum Analytics](http://continuum.io/).\n",
    "\n",
    "In 2015, the IPython Notebook evolved into [Project Jupyter](http://jupyter.org/), which now manages the language-agnostic parts of the notebook and provides one uniform platform for working in several different computing languages, including Python. \n",
    "\n",
    "If you are viewing this notebook via a weblink, you won't be able to interact with it, but if you install Anaconda, you can code along with us by opening the notebook from the IPython Notebook server."
   ]
  },
  {
   "cell_type": "markdown",
   "metadata": {},
   "source": [
    "##[Python](https://www.python.org/)"
   ]
  },
  {
   "cell_type": "markdown",
   "metadata": {},
   "source": [
    "The [Python programming language](https://www.python.org/) is an excellent tool for general-purpose programming, with a highly readable syntax, rich and powerful data types (strings, lists, sets, dictionaries, arbitrary length integers, etc) and a very comprehensive standard library.  The language is easy to learn and because it is an interpreted language, commands are executed in real time without the need to compile a full program.  \n",
    "\n",
    "There is a whole ecosystem of additional libraries provided with Anaconda that can be used for mathematical and scientific computing, which will help you efficiently represent multidimensional datasets, solve linear algebra systems, perform general matrix manipulations (an essential building block of virtually all technical computing), and visually represent and interact with data of many different types."
   ]
  },
  {
   "cell_type": "markdown",
   "metadata": {},
   "source": [
    "##[SciPy](http://www.scipy.org/)"
   ]
  },
  {
   "cell_type": "markdown",
   "metadata": {},
   "source": [
    "[SciPy](http://www.scipy.org/) (pronounced \"Sigh-Pie\") is the premiere package for scientific computing in Python. It has many, many useful tools, which are central to scientific computing tasks you'll come across.\n",
    "\n",
    "The [NumPy](http://www.numpy.org/) library (pronounced \"Numb-Pie\") forms the base layer for the entire SciPy ecosystem.\n",
    "\n",
    "[Matplotlib](http://matplotlib.org/) is a Python 2D plotting library which produces publication quality figures in a variety of hardcopy formats and interactive environments across platforms.  When you need to view or present data, it is invaluable.\n",
    "\n",
    "These libraries, or their individual components, can be imported and used in the IPython notebook. "
   ]
  },
  {
   "cell_type": "markdown",
   "metadata": {},
   "source": [
    "To write and execute code within the notebook, we use a code cell (the default). We will look at the details of the syntax later.  For now, here is our first code cell, in which we import some of these libraries for later use:"
   ]
  },
  {
   "cell_type": "code",
   "execution_count": null,
   "metadata": {
    "collapsed": true
   },
   "outputs": [],
   "source": [
    "#Comments begin with #\n",
    "\n",
    "#Allow graphics to render inside the notebook\n",
    "%pylab inline \n",
    "\n",
    "#import packages we might want to use\n",
    "import matplotlib.pyplot as plt\n",
    "import numpy as np\n",
    "import scipy as sp"
   ]
  },
  {
   "cell_type": "markdown",
   "metadata": {},
   "source": [
    "To execute a cell:\n",
    "\n",
    "* `Shift-Enter`: run cell and move to new cell below.\n",
    "* `Control-Enter`: run cell and stay in the cell."
   ]
  },
  {
   "cell_type": "markdown",
   "metadata": {},
   "source": [
    "---"
   ]
  },
  {
   "cell_type": "markdown",
   "metadata": {},
   "source": [
    "# 3. Notebook basics"
   ]
  },
  {
   "cell_type": "markdown",
   "metadata": {},
   "source": [
    "There are two primary different kinds of cell types - \"code\" and \"markdown\".  The cell in which this text was typed is a markdown cell.  A code cell is one in which computer instructions or code can be typed.  To execute a cell, hit `Shift-Enter`."
   ]
  },
  {
   "cell_type": "markdown",
   "metadata": {},
   "source": [
    "Markdown cells use the [Markdown](http://whatismarkdown.com/) formatting system to allow you to include formatted text, such as *italic* and **bold**, or to create bulleted or numbered lists:\n",
    "\n",
    "* a list element\n",
    "* another list element\n",
    "\n",
    "\n",
    "1. a numbered list element\n",
    "2. another numbered list element"
   ]
  },
  {
   "cell_type": "markdown",
   "metadata": {},
   "source": [
    "The view of these cells is determined by whether they have been executed or not.  Double-clicking any executed markdown cell will bring it into \"edit\" mode.  Try it with one of these cells."
   ]
  },
  {
   "cell_type": "markdown",
   "metadata": {},
   "source": [
    "Mathematical expressions can be rendered using [LaTeX](http://www.latex-project.org/) formatting (pronounced \"Lah-Tech\") to give full-featured symbolic representation:\n",
    "\n",
    "$$x = \\frac{-b \\pm \\sqrt{b^2 - 4ac}}{2a}$$\n",
    "\n",
    "The LaTeX \"code\" to create that equation is\n",
    "\n",
    "`$$x = \\frac{-b \\pm \\sqrt{b^2 - 4ac}}{2a}$$`\n",
    "\n",
    "LaTeX equation typesetting within the IPython Notebook is very helpful for displaying equations and directly connecting them with the computer code that implements them numerically. "
   ]
  },
  {
   "cell_type": "markdown",
   "metadata": {},
   "source": [
    "Images can be included in markdown cells using HTML tags like\n",
    "\n",
    "`<img src=\"img/Cats.jpg\" width=200>`"
   ]
  },
  {
   "cell_type": "markdown",
   "metadata": {},
   "source": [
    "<img src=\"img/Cats.jpg\" width=200>"
   ]
  },
  {
   "cell_type": "markdown",
   "metadata": {},
   "source": [
    "or they can be included in code cells using the display features of IPython."
   ]
  },
  {
   "cell_type": "code",
   "execution_count": null,
   "metadata": {
    "collapsed": true
   },
   "outputs": [],
   "source": [
    "from IPython.display import Image\n",
    "Image(filename='img/Cats.jpg')"
   ]
  },
  {
   "cell_type": "markdown",
   "metadata": {},
   "source": [
    "It is also possible to display images linked from sites around the web:"
   ]
  },
  {
   "cell_type": "code",
   "execution_count": null,
   "metadata": {
    "collapsed": true
   },
   "outputs": [],
   "source": [
    "Image(url='http://python.org/images/python-logo.gif')"
   ]
  },
  {
   "cell_type": "markdown",
   "metadata": {},
   "source": [
    "How about embedding Youtube videos in the notebook using the video tag?"
   ]
  },
  {
   "cell_type": "code",
   "execution_count": null,
   "metadata": {
    "collapsed": true
   },
   "outputs": [],
   "source": [
    "from IPython.display import YouTubeVideo\n",
    "YouTubeVideo('4disyKG7XtU')"
   ]
  },
  {
   "cell_type": "markdown",
   "metadata": {},
   "source": [
    "These features enable the notebook to provide a rich development environment for projects that incorporate computer code but are not (necessarily) all about the code.  In fact, the notebook lets you expand the notion of a computer \"program\" to include context and commentary side-by-side with the code to help readers/users better understand the purpose and results of the computer code.\n",
    "\n",
    "Now that we have seen some of the notebook's capability in action, let's write some code."
   ]
  },
  {
   "cell_type": "markdown",
   "metadata": {},
   "source": [
    "---"
   ]
  },
  {
   "cell_type": "markdown",
   "metadata": {},
   "source": [
    "# 4. Writing Code"
   ]
  },
  {
   "cell_type": "markdown",
   "metadata": {},
   "source": [
    "A short workshop is not enough time to fully introduce all of programming to beginners, but we can learn some of the basics by trying them out.  Here is a brief tour of simple code concepts implemented as code statements in Python."
   ]
  },
  {
   "cell_type": "markdown",
   "metadata": {},
   "source": [
    "##4.1 Basic coding syntax and logic"
   ]
  },
  {
   "cell_type": "markdown",
   "metadata": {},
   "source": [
    "Print a message:"
   ]
  },
  {
   "cell_type": "code",
   "execution_count": null,
   "metadata": {
    "collapsed": true
   },
   "outputs": [],
   "source": [
    "print \"Hello World\""
   ]
  },
  {
   "cell_type": "markdown",
   "metadata": {},
   "source": [
    "Create a variable and assign it a value:"
   ]
  },
  {
   "cell_type": "code",
   "execution_count": null,
   "metadata": {
    "collapsed": false
   },
   "outputs": [],
   "source": [
    "z = 5"
   ]
  },
  {
   "cell_type": "markdown",
   "metadata": {},
   "source": [
    "Print the value stored in the variable:"
   ]
  },
  {
   "cell_type": "code",
   "execution_count": null,
   "metadata": {
    "collapsed": true
   },
   "outputs": [],
   "source": [
    "print z"
   ]
  },
  {
   "cell_type": "markdown",
   "metadata": {},
   "source": [
    "Change the value of the variable with an arithmetic expression:"
   ]
  },
  {
   "cell_type": "code",
   "execution_count": null,
   "metadata": {
    "collapsed": true
   },
   "outputs": [],
   "source": [
    "z = z + 27\n",
    "print z"
   ]
  },
  {
   "cell_type": "markdown",
   "metadata": {},
   "source": [
    "You can request input from a user that can be stored in memory and used for other purposes:"
   ]
  },
  {
   "cell_type": "code",
   "execution_count": null,
   "metadata": {
    "collapsed": true
   },
   "outputs": [],
   "source": [
    "name = raw_input(\"Hi, what's your name? \");"
   ]
  },
  {
   "cell_type": "code",
   "execution_count": null,
   "metadata": {
    "collapsed": true
   },
   "outputs": [],
   "source": [
    "print \"Hi, my name is\",name"
   ]
  },
  {
   "cell_type": "markdown",
   "metadata": {},
   "source": [
    "In Python, you can *def*ine a **function** and pass it *arguments*, then execute the function:"
   ]
  },
  {
   "cell_type": "code",
   "execution_count": null,
   "metadata": {
    "collapsed": false
   },
   "outputs": [],
   "source": [
    "def intro(name):\n",
    "    print \"Hi, my name is\",name"
   ]
  },
  {
   "cell_type": "markdown",
   "metadata": {},
   "source": [
    "To *call* the function, you type the name, with the argument(s) in parentheses as a code statement:"
   ]
  },
  {
   "cell_type": "code",
   "execution_count": null,
   "metadata": {
    "collapsed": true
   },
   "outputs": [],
   "source": [
    "intro(\"Jennifer\")"
   ]
  },
  {
   "cell_type": "markdown",
   "metadata": {},
   "source": [
    "here's a function that takes no arguments: "
   ]
  },
  {
   "cell_type": "code",
   "execution_count": null,
   "metadata": {
    "collapsed": false
   },
   "outputs": [],
   "source": [
    "def intro():\n",
    "    name = raw_input(\"Hi, my name is \");"
   ]
  },
  {
   "cell_type": "code",
   "execution_count": null,
   "metadata": {
    "collapsed": true
   },
   "outputs": [],
   "source": [
    "intro()"
   ]
  },
  {
   "cell_type": "markdown",
   "metadata": {},
   "source": [
    "You can control the execution of code statements with **if ... else**:"
   ]
  },
  {
   "cell_type": "code",
   "execution_count": null,
   "metadata": {
    "collapsed": true
   },
   "outputs": [],
   "source": [
    "if z > 10:\n",
    "    print \"Yay!\"\n",
    "else:\n",
    "    print \"Boo. :-(\""
   ]
  },
  {
   "cell_type": "code",
   "execution_count": null,
   "metadata": {
    "collapsed": true
   },
   "outputs": [],
   "source": [
    "print z"
   ]
  },
  {
   "cell_type": "markdown",
   "metadata": {},
   "source": [
    "For repetitive tasks, you can use a **for** loop:"
   ]
  },
  {
   "cell_type": "code",
   "execution_count": null,
   "metadata": {
    "collapsed": true
   },
   "outputs": [],
   "source": [
    "print \"I can count to 10!\"\n",
    "for i in range(10):\n",
    "    print i"
   ]
  },
  {
   "cell_type": "markdown",
   "metadata": {},
   "source": [
    "Oops.  Not quite what you were expecting?\n",
    "\n",
    "**Notice that in Python, indices start from 0, not 1, and count up to n-1.**"
   ]
  },
  {
   "cell_type": "markdown",
   "metadata": {},
   "source": [
    "I can create a list of items and *iterate* over them with a **for** loop:"
   ]
  },
  {
   "cell_type": "code",
   "execution_count": null,
   "metadata": {
    "collapsed": true
   },
   "outputs": [],
   "source": [
    "shopping_list = [\"eggs\",\"milk\",\"bacon\",\"bread\",\"strawberries\",\"yogurt\",\"jam\"]\n",
    "for item in shopping_list:\n",
    "    print item"
   ]
  },
  {
   "cell_type": "markdown",
   "metadata": {},
   "source": [
    "I can access individual items from their location in the list using an index to that location:"
   ]
  },
  {
   "cell_type": "code",
   "execution_count": null,
   "metadata": {
    "collapsed": true
   },
   "outputs": [],
   "source": [
    "print shopping_list[2]"
   ]
  },
  {
   "cell_type": "code",
   "execution_count": null,
   "metadata": {
    "collapsed": true
   },
   "outputs": [],
   "source": [
    "print \"What's for breakfast?\"\n",
    "print shopping_list[2] + shopping_list[0]"
   ]
  },
  {
   "cell_type": "markdown",
   "metadata": {},
   "source": [
    "Let's try that again:"
   ]
  },
  {
   "cell_type": "code",
   "execution_count": null,
   "metadata": {
    "collapsed": true
   },
   "outputs": [],
   "source": [
    "print \"What's for breakfast?\"\n",
    "print shopping_list[0] + \" and \" + shopping_list[2]"
   ]
  },
  {
   "cell_type": "markdown",
   "metadata": {},
   "source": [
    "I can also *slice* through the list"
   ]
  },
  {
   "cell_type": "code",
   "execution_count": null,
   "metadata": {
    "collapsed": true
   },
   "outputs": [],
   "source": [
    "print shopping_list[1:4]"
   ]
  },
  {
   "cell_type": "markdown",
   "metadata": {},
   "source": [
    "This shows the \"1th\", \"2th\", and \"3th\" elements, or **start** to **end-1**.  Note the difference between this and traditional ordinal numbering: \n",
    "\n",
    "* \"0th\" = \"1st\"\n",
    "* \"1th\" = \"2nd\"\n",
    "* \"2th\" = \"3rd\"\n",
    "* \"3th\" = \"4th\"\n",
    "* and so on...\n",
    "\n",
    "When slicing a list (or array), you can leave one or the other index blank to tell it to start at the beginning or go to the end.  The result will be similar to before:"
   ]
  },
  {
   "cell_type": "code",
   "execution_count": null,
   "metadata": {
    "collapsed": true
   },
   "outputs": [],
   "source": [
    "#Slice from 0th to the 1th element:\n",
    "print shopping_list[:2]"
   ]
  },
  {
   "cell_type": "code",
   "execution_count": null,
   "metadata": {
    "collapsed": true
   },
   "outputs": [],
   "source": [
    "#Slice from 0th (first) to the n-1th (last) element:\n",
    "print shopping_list[:]"
   ]
  },
  {
   "cell_type": "code",
   "execution_count": null,
   "metadata": {
    "collapsed": true
   },
   "outputs": [],
   "source": [
    "#Slice from 2th (third) to n-1th (last) element:\n",
    "print shopping_list[2:]"
   ]
  },
  {
   "cell_type": "markdown",
   "metadata": {},
   "source": [
    "You can also access elements backward from the end using negative numbers:"
   ]
  },
  {
   "cell_type": "code",
   "execution_count": null,
   "metadata": {
    "collapsed": true
   },
   "outputs": [],
   "source": [
    "#Print the last element:\n",
    "print shopping_list[-1]"
   ]
  },
  {
   "cell_type": "code",
   "execution_count": null,
   "metadata": {
    "collapsed": true
   },
   "outputs": [],
   "source": [
    "#Print the second-to-last element:\n",
    "print shopping_list[-2]"
   ]
  },
  {
   "cell_type": "markdown",
   "metadata": {},
   "source": [
    "or designate a *step size* to jump over certain elements:"
   ]
  },
  {
   "cell_type": "code",
   "execution_count": null,
   "metadata": {
    "collapsed": true
   },
   "outputs": [],
   "source": [
    "#Print every other element:\n",
    "print shopping_list[::2]"
   ]
  },
  {
   "cell_type": "code",
   "execution_count": null,
   "metadata": {
    "collapsed": true
   },
   "outputs": [],
   "source": [
    "#Print every third element (skip 2):\n",
    "print shopping_list[::3]"
   ]
  },
  {
   "cell_type": "markdown",
   "metadata": {},
   "source": [
    "How about printing them backward?"
   ]
  },
  {
   "cell_type": "code",
   "execution_count": null,
   "metadata": {
    "collapsed": true
   },
   "outputs": [],
   "source": [
    "#Iterate from the last to the first element in steps of 1:\n",
    "print shopping_list[-1::-1]"
   ]
  },
  {
   "cell_type": "markdown",
   "metadata": {},
   "source": [
    "Python lists can contain elements of any *data type* - strings of characters (e.g. words, sentences, etc.), whole numbers (called \"integers\" or `int`s), decimal numbers (called \"floating point numbers\" or `float`s), other lists, etc.  \n",
    "\n",
    "There are other kinds of containers in Python - dictionaries, deques, queues - each with different features and uses.  We won't look into them further here, but if you are interested, consult the [documentation](https://docs.python.org/2/) or an introductory text such as [ThinkPython](http://www.greenteapress.com/thinkpython/html/index.html) by Allen Downey.  "
   ]
  },
  {
   "cell_type": "markdown",
   "metadata": {},
   "source": [
    "## 4.2 NumPy Arrays"
   ]
  },
  {
   "cell_type": "markdown",
   "metadata": {},
   "source": [
    "NumPy arrays are better containers for purely numerical data."
   ]
  },
  {
   "cell_type": "code",
   "execution_count": null,
   "metadata": {
    "collapsed": false
   },
   "outputs": [],
   "source": [
    "#Create an array of 10 values between 0 and 10-1\n",
    "arr = np.arange(10)"
   ]
  },
  {
   "cell_type": "code",
   "execution_count": null,
   "metadata": {
    "collapsed": true
   },
   "outputs": [],
   "source": [
    "print arr"
   ]
  },
  {
   "cell_type": "code",
   "execution_count": null,
   "metadata": {
    "collapsed": true
   },
   "outputs": [],
   "source": [
    "#Create an array of 10 evenly-spaced values between 0 and 10\n",
    "arr2 = np.linspace(0,10,10)"
   ]
  },
  {
   "cell_type": "code",
   "execution_count": null,
   "metadata": {
    "collapsed": true
   },
   "outputs": [],
   "source": [
    "print arr2"
   ]
  },
  {
   "cell_type": "markdown",
   "metadata": {},
   "source": [
    "The elements of the arrays can be accessed with the same indexing and slicing as we used before:"
   ]
  },
  {
   "cell_type": "code",
   "execution_count": null,
   "metadata": {
    "collapsed": true
   },
   "outputs": [],
   "source": [
    "#How many elements are in the array?\n",
    "print len(arr)"
   ]
  },
  {
   "cell_type": "code",
   "execution_count": null,
   "metadata": {
    "collapsed": true
   },
   "outputs": [],
   "source": [
    "#Print the 5-th element (sixth in the list):\n",
    "print arr[5]"
   ]
  },
  {
   "cell_type": "markdown",
   "metadata": {},
   "source": [
    "NumPy arrays can be used for simple or complex mathematical calculations."
   ]
  },
  {
   "cell_type": "code",
   "execution_count": null,
   "metadata": {
    "collapsed": true
   },
   "outputs": [],
   "source": [
    "x = np.linspace(0, 2*np.pi, 300)\n",
    "y = np.sin(x**2)"
   ]
  },
  {
   "cell_type": "markdown",
   "metadata": {},
   "source": [
    "Here, `x` and `y` are just arrays of numbers that represent the value of the function $y(x)=\\sin(x^2)$ at each of the 300 values of $x$ between 0 and 2$\\pi$."
   ]
  },
  {
   "cell_type": "markdown",
   "metadata": {},
   "source": [
    "## 4.3 Matplotlib"
   ]
  },
  {
   "cell_type": "markdown",
   "metadata": {},
   "source": [
    "You can use matplotlib to create visual representations of such data:"
   ]
  },
  {
   "cell_type": "code",
   "execution_count": null,
   "metadata": {
    "collapsed": true
   },
   "outputs": [],
   "source": [
    "plt.plot(x, y)\n",
    "plt.title(\"A little chirp\");"
   ]
  },
  {
   "cell_type": "markdown",
   "metadata": {},
   "source": [
    "Graphs in matplotlib have many attributes that you can customize (see the [documentation](http://matplotlib.org/contents.html)).  The developers also provide a [gallery of plots](http://matplotlib.org/gallery.html) to showcase the wide variety of visual representations that are available.   \n",
    "\n",
    "No one can keep all of the functions and fine layout control commands in their brain.  Often when I need to make a plot, I go to the [gallery page](http://matplotlib.org/gallery.html) and browse the images until I find one that is similar to what I want to create and then I copy the code and modify it to suit my needs."
   ]
  },
  {
   "cell_type": "markdown",
   "metadata": {},
   "source": [
    "When you use the Matplotlib gallery to develop (or \"template\") a figure, you can very easily load the source code into your notebook and then modify it as needed to fit your specific needs using the Python \"magic\" command, `%load`.  \n",
    "\n",
    "Try it now.  After the code is loaded, just execute the cell to see the output."
   ]
  },
  {
   "cell_type": "code",
   "execution_count": null,
   "metadata": {
    "collapsed": true
   },
   "outputs": [],
   "source": [
    "#Execute this cell to see the histogram example plot code, then execute again to make the plot.\n",
    "%load http://matplotlib.org/mpl_examples/statistics/histogram_demo_multihist.py"
   ]
  },
  {
   "cell_type": "markdown",
   "metadata": {},
   "source": [
    "## 4.4 IPython Widgets"
   ]
  },
  {
   "cell_type": "markdown",
   "metadata": {},
   "source": [
    "Exploring data is much more fun when you can directly interact with it.  IPython widgets provide a great way to do just that.  Here is an example with two sine curves - one is a pure sine wave, the other is the superposition of two waves with different frequency but the same amplitude.  You can interactively explore how the functions change when the parameters are changed."
   ]
  },
  {
   "cell_type": "code",
   "execution_count": null,
   "metadata": {
    "collapsed": true
   },
   "outputs": [],
   "source": [
    "from IPython.html.widgets import interact"
   ]
  },
  {
   "cell_type": "code",
   "execution_count": null,
   "metadata": {
    "collapsed": true
   },
   "outputs": [],
   "source": [
    "def sin_plot(A=5.0,f1=5.0,f2=10.):\n",
    "    x = np.linspace(0,2*np.pi,1000)\n",
    "    #pure sine curve\n",
    "    y = A*np.sin(f1*x)\n",
    "    #superposition of sine curves with different frequency\n",
    "    #but same amplitude\n",
    "    y2 = A*(np.sin(f1*x)+np.sin(f2*x))\n",
    "    plt.plot(x,y,x,y2)\n",
    "    plt.xlim(0.,2.*np.pi)\n",
    "    plt.ylim(-10.,10.)\n",
    "    plt.grid()\n",
    "    plt.show()\n",
    "    \n",
    "v3 = interact(sin_plot,A=(0.,10.), f1=(1.0,10.0), f2=(1.0,10.0))"
   ]
  },
  {
   "cell_type": "markdown",
   "metadata": {},
   "source": [
    "Here's another interactive plot that allows you to randomly sample (x,y) pairs within a circle of radius $r$.  The interact object lets you increase or decrease the number of samples in the circle."
   ]
  },
  {
   "cell_type": "code",
   "execution_count": null,
   "metadata": {
    "collapsed": true
   },
   "outputs": [],
   "source": [
    "def scatter_plot(r=0.5, n=27):\n",
    "    t = np.random.uniform(0.0,2.0*np.pi,n)\n",
    "    rad = r*np.sqrt(np.random.uniform(0.0,1.0,n))\n",
    "    x = np.empty(n)\n",
    "    y = np.empty(n)\n",
    "    x = rad*np.cos(t)\n",
    "    y = rad*np.sin(t)\n",
    "    fig = plt.figure(figsize=(4,4),dpi=80)\n",
    "    plt.scatter(x,y)\n",
    "    plt.xlim(-1.,1.)\n",
    "    plt.ylim(-1.,1.)\n",
    "    plt.show()\n",
    "    \n",
    "v2 = interact(scatter_plot,r=(0.0,1.0), n=(1,1000))"
   ]
  },
  {
   "cell_type": "markdown",
   "metadata": {},
   "source": [
    "A last fun example of using widgets can be found in the [accompanying notebook](notebooks/DoubleSlit.ipynb) on the Quantum double-slit experiment."
   ]
  },
  {
   "cell_type": "markdown",
   "metadata": {},
   "source": [
    "## 4.5 When things go awry"
   ]
  },
  {
   "cell_type": "markdown",
   "metadata": {},
   "source": [
    "Making mistakes when programming is an unavoidable part of the experience.  It can be very frustrating.  You might spend an hour trying to track down the source of a \"bug\" in a program, convinced that the computer is at fault.  I know I have done that countless times.  But computers are only as \"smart\" as their programmers.  Like lemmings, they will blindly follow our instructions.  It is pretty much always our fault.  Get used to that.  \n",
    "\n",
    "Occasionally, the computer will spit out an error message or give back a gibberish answer, alerting us to our mistake.  Sometimes we're not so lucky.  \n",
    "\n",
    "Bug-hunting (or \"debugging\") is part of the job.  And part of debugging is being able to understand error messages.  Let's generate some errors to get a feel for dealing with them."
   ]
  },
  {
   "cell_type": "code",
   "execution_count": null,
   "metadata": {
    "collapsed": true
   },
   "outputs": [],
   "source": [
    "pirnt \"Hello\n",
    "print \"World \" + z-5"
   ]
  },
  {
   "cell_type": "markdown",
   "metadata": {},
   "source": [
    "This is an example of a *syntax* error.  We forgot to close the quotes around our message.  Python error messages are (usually) informative and tell you what the problem is and where it occurred.  We can fix this problem by closing our quotes."
   ]
  },
  {
   "cell_type": "code",
   "execution_count": null,
   "metadata": {
    "collapsed": true
   },
   "outputs": [],
   "source": [
    "pirnt \"Hello\"\n",
    "print \"World \" + z-5"
   ]
  },
  {
   "cell_type": "markdown",
   "metadata": {},
   "source": [
    "Oops.  We misspelled `print`, giving us another syntax error.  In this case the message is not quite as clear about what the problem is, but it isn't too hard to spot the mistake.  \n",
    "\n",
    "Notice that Python doesn't execute the second statement in the cell when it encounters an error in the first line. Execution stops at the first sign of an error.  Keeping the number of lines of code in cells or functions short makes tracking errors much easier.  \n",
    "\n",
    "Notice also that the Notebook provides *syntax highlighting* - Python keywords, like `print`, and numbers appear in <font color=green>green</font>, quoted strings appear in <font color=red>red</font>, operators like `+` and `-` appear in <font color=purple>purple</font> and variables are black.  This can be helpful for spotting errors quickly.  \n",
    "\n",
    "Let's correct our spelling."
   ]
  },
  {
   "cell_type": "code",
   "execution_count": null,
   "metadata": {
    "collapsed": true
   },
   "outputs": [],
   "source": [
    "print \"Hello\"\n",
    "print \"World \" + z-5"
   ]
  },
  {
   "cell_type": "markdown",
   "metadata": {},
   "source": [
    "Now what?  Here is a *type* error.  We tried to perform the \"+\" operation on a string and an integer, which is not allowed.  To correct this we could force the integer object to be treated as a string by *casting* it as one:"
   ]
  },
  {
   "cell_type": "code",
   "execution_count": null,
   "metadata": {
    "collapsed": true
   },
   "outputs": [],
   "source": [
    "print \"Hello\"\n",
    "print \"World \" + str(z-5)"
   ]
  },
  {
   "cell_type": "markdown",
   "metadata": {},
   "source": [
    "Let's move on to another error."
   ]
  },
  {
   "cell_type": "code",
   "execution_count": null,
   "metadata": {
    "collapsed": false
   },
   "outputs": [],
   "source": [
    "ff = m*z + b"
   ]
  },
  {
   "cell_type": "markdown",
   "metadata": {},
   "source": [
    "This is an example of a *runtime error*.  The syntax is correct, but in this case some of the variables have not yet been defined.  Let's try that again."
   ]
  },
  {
   "cell_type": "code",
   "execution_count": null,
   "metadata": {
    "collapsed": false
   },
   "outputs": [],
   "source": [
    "m = 0.5\n",
    "b = -3."
   ]
  },
  {
   "cell_type": "code",
   "execution_count": null,
   "metadata": {
    "collapsed": false
   },
   "outputs": [],
   "source": [
    "print ff"
   ]
  },
  {
   "cell_type": "markdown",
   "metadata": {},
   "source": [
    "Because of the previous error, y was never defined.  We have to either re-execute the cell above or re-define `f` now that the other variables have been defined."
   ]
  },
  {
   "cell_type": "code",
   "execution_count": null,
   "metadata": {
    "collapsed": false
   },
   "outputs": [],
   "source": [
    "ff = m*z + b"
   ]
  },
  {
   "cell_type": "code",
   "execution_count": null,
   "metadata": {
    "collapsed": false
   },
   "outputs": [],
   "source": [
    "print z"
   ]
  },
  {
   "cell_type": "markdown",
   "metadata": {},
   "source": [
    "Runtime errors are annoying but at least they announce themselves.  What happens if we make a logical error?"
   ]
  },
  {
   "cell_type": "code",
   "execution_count": null,
   "metadata": {
    "collapsed": false
   },
   "outputs": [],
   "source": [
    "def cube_root(x):\n",
    "    '''This function takes a number, x, \n",
    "       computes the cube root, \n",
    "       and returns the result\n",
    "    '''\n",
    "    return np.power(x,1/3)"
   ]
  },
  {
   "cell_type": "code",
   "execution_count": null,
   "metadata": {
    "collapsed": true
   },
   "outputs": [],
   "source": [
    "print cube_root(8)"
   ]
  },
  {
   "cell_type": "markdown",
   "metadata": {},
   "source": [
    "Hmmm... What went wrong here?  Everything looks okay.  This is an example of a *logical* error.  The syntax is correct, the code executed, but the output is not what we expect it to be.  (The cube-root of 8 is 2: `2*2*2=8`.)\n",
    "\n",
    "How come this function doesn't work?  Python is a *dynamically-typed* language, which means it tries to guess what the data type of the object you are defining is and then applies the rules of those objects for subsequent calculations.  Integers are whole numbers of type `int`.  Decimal numbers are represented in the computer as floating point numbers or `float`s.  When Python computes the fraction with the \"/\" operator on integers, it assumes you want an integer result.  The \"/\" operator on integers rounds *down* to the nearest whole integer:"
   ]
  },
  {
   "cell_type": "code",
   "execution_count": null,
   "metadata": {
    "collapsed": true
   },
   "outputs": [],
   "source": [
    "5/4"
   ]
  },
  {
   "cell_type": "markdown",
   "metadata": {},
   "source": [
    "How do we avoid logical errors like this one?  For mathematical calculations, you can explicitly define the data *type* of the numbers you use.  If you want a floating-point result, use floating-point numbers by adding a decimal point to the end of the number:"
   ]
  },
  {
   "cell_type": "code",
   "execution_count": null,
   "metadata": {
    "collapsed": true
   },
   "outputs": [],
   "source": [
    "a = 3\n",
    "b = 4\n",
    "print a/b"
   ]
  },
  {
   "cell_type": "code",
   "execution_count": null,
   "metadata": {
    "collapsed": true
   },
   "outputs": [],
   "source": [
    "c = 3.\n",
    "d = 4.\n",
    "print c/d"
   ]
  },
  {
   "cell_type": "markdown",
   "metadata": {},
   "source": [
    "How do we avoid logical errors in general?  \n",
    "\n",
    "Never make a logical error.\n",
    "\n",
    "Just kidding.  The only way to *minimize* logical errors is to always test your code with a known result whenever possible.  In the case of the `cube_root` function, we knew something was wrong with the logic because the cube-root of 8 should be 2.  When we got a different value than expected, we knew we had a problem to track down and correct.   The purpose of *testing* as a programming \"best practice\" is to minimize logical errors like this one. \n",
    "\n",
    "Fix the `cube_root` function and test that it gives sensible results."
   ]
  },
  {
   "cell_type": "markdown",
   "metadata": {},
   "source": [
    "## 4.6 Getting help"
   ]
  },
  {
   "cell_type": "markdown",
   "metadata": {},
   "source": [
    "When IPython needs to display additional information it will automatically invoke a pager at the bottom of the screen.  You can get help with IPython in general by typing a question mark in a code cell and executing it:"
   ]
  },
  {
   "cell_type": "code",
   "execution_count": null,
   "metadata": {
    "collapsed": true
   },
   "outputs": [],
   "source": [
    "?"
   ]
  },
  {
   "cell_type": "markdown",
   "metadata": {},
   "source": [
    "Or get help on a particular function with, e.g."
   ]
  },
  {
   "cell_type": "code",
   "execution_count": null,
   "metadata": {
    "collapsed": false
   },
   "outputs": [],
   "source": [
    "np.arange?"
   ]
  },
  {
   "cell_type": "markdown",
   "metadata": {},
   "source": [
    "There is extensive documentation for Python, IPython, NumPy, SciPy, Matplotlib, etc. on the web.  Chances are, your question has been asked and answered somewhere already.  [Google](http://google.com/#q=python) is your friend.  A few places to look when you get stuck:\n",
    "\n",
    "* The [IPython website](http://ipython.org/)\n",
    "* [Stackoverflow](http://stackoverflow.com/questions/tagged/ipython)\n",
    "* [Reddit](http://www.reddit.com/r/IPython)"
   ]
  },
  {
   "cell_type": "markdown",
   "metadata": {},
   "source": [
    "---"
   ]
  },
  {
   "cell_type": "markdown",
   "metadata": {},
   "source": [
    "# 5. Applications"
   ]
  },
  {
   "cell_type": "markdown",
   "metadata": {},
   "source": [
    "Now that we we have seen some of the basics, let's try using what we learned to solve a simple problem."
   ]
  },
  {
   "cell_type": "markdown",
   "metadata": {},
   "source": [
    "## 5.1 Project Euler"
   ]
  },
  {
   "cell_type": "markdown",
   "metadata": {},
   "source": [
    "[Project Euler](https://projecteuler.net) is an online repository of simple and hard math puzzles that can be solved with the computer.  These are great for practicing problem-solving, algorithmic thinking, and coding.  Let's try a simple one together."
   ]
  },
  {
   "cell_type": "markdown",
   "metadata": {},
   "source": [
    "###Multiples of 3 and 5\n",
    "\n",
    "####Problem 1\n",
    "\n",
    "If we list all the natural numbers below 10 that are multiples of 3 or 5, we get 3, 5, 6 and 9. The sum of these multiples is 23.\n",
    "\n",
    "Find the sum of all the multiples of 3 or 5 below 1000.\n",
    "\n",
    "https://projecteuler.net/problem=1"
   ]
  },
  {
   "cell_type": "markdown",
   "metadata": {},
   "source": [
    "Work with a partner to brainstorm a solution to this problem by breaking it into logical steps.  Type your set of steps into a markdown cell as a bulleted list.  Then try to implement the code for these steps in a code cell.  Verify your solution works for the case where N = 10 before trying N = 1000."
   ]
  },
  {
   "cell_type": "markdown",
   "metadata": {},
   "source": [
    "Steps:\n",
    "\n",
    "*\n",
    "*\n",
    "*\n",
    "*"
   ]
  },
  {
   "cell_type": "code",
   "execution_count": null,
   "metadata": {
    "collapsed": false
   },
   "outputs": [],
   "source": [
    "#Your code here"
   ]
  },
  {
   "cell_type": "markdown",
   "metadata": {},
   "source": [
    "## 5.2 Project Ideas"
   ]
  },
  {
   "cell_type": "markdown",
   "metadata": {},
   "source": [
    "Much of scientific computing involves reading and understanding existing programs written by others so that they can be adapted to solve different problems.  Learning to recognize the underlying structure and logic of a program regardless of the language that the program is written in is an essential skill.  Once you have the ability to deconstruct and understand programs you can adapt them to your needs."
   ]
  },
  {
   "cell_type": "markdown",
   "metadata": {},
   "source": [
    "I have included a few project examples here that don't require complex domain-specific knowledge (e.g. biology, chemistry, physics) to grasp and understand.  Yet these projects can be adapted or applied to interesting problems in various domains.\n",
    "\n",
    "Some of the project notebooks include code while others are outlines of projects with varying degrees of detailed instructions.  You (and your students) probably won't be ready to really try the project notebooks until you have a good basic set of Python coding skills.  You can obtain these by a variety of means, but I can suggest three different resources that I have either personally used or had students successfully use to build code skills.  These are:\n",
    "\n",
    "* [Codecademy Python Track](http://www.codecademy.com/en/tracks/python)\n",
    "* [Learn Python The Hard Way](http://learnpythonthehardway.org/book/)\n",
    "* [Think Python!](http://www.greenteapress.com/thinkpython/html/index.html)\n",
    "\n",
    "For notebooks with example/tutorial code, I recommend creating a separate notebook and typing the commands by hand.  This forces you to think about each command as you go and will also force you to deal with syntax errrors and mistakes, which is a good thing.  Do *NOT* copy/paste.  If you do copy/paste, you might as well not even bother, because you won't be learning *how* the program works.  This style of learning is the method employed by [Learn Python The Hard Way](http://learnpythonthehardway.org/book/).  Don't be fooled by the name.  It is actually a really good book that is very easy to follow.  It is only considered \"hard\" because you do a lot of practice work - like scales on the piano or free-throws in basketball.  The book is also pretty entertaining.\n",
    "\n",
    "On to the projects..."
   ]
  },
  {
   "cell_type": "markdown",
   "metadata": {},
   "source": [
    "### 5.2.1 Battleship"
   ]
  },
  {
   "cell_type": "markdown",
   "metadata": {},
   "source": [
    "Battleship is a simple game of hunt and destroy that you may have already played at some point.  It can be easily adapted to the computer.  The Codecademy course on Python walks you step-by-step through the development of such a game with text-based graphics.  This version builds on that using a module called `ipythonblocks` to represent the game visually.\n",
    "\n",
    "[Battleship Project Notebook](notebooks/Battleship.ipynb)"
   ]
  },
  {
   "cell_type": "markdown",
   "metadata": {},
   "source": [
    "### 5.2.2 Schelling Model"
   ]
  },
  {
   "cell_type": "markdown",
   "metadata": {},
   "source": [
    "The Schelling Model is an easy-to-understand agent-based model of racial segregation that also has analogues in biology, chemistry, and physics.  It can be implemented with a simple set of logical rules applied to a collection of \"agents\" in a series of rounds.  The model lends itself well to visual representation with ipythonblocks and interactive widgets.\n",
    "\n",
    "[Schelling Model Project Notebook](notebooks/SchellingModel.ipynb)"
   ]
  },
  {
   "cell_type": "markdown",
   "metadata": {},
   "source": [
    "###5.2.3 Counting Stars"
   ]
  },
  {
   "cell_type": "markdown",
   "metadata": {},
   "source": [
    "Image processing, such as feature identification and extraction, is a cross-disciplinary research method.  How does it work?  This project presents a way to learn a simple underlying algorithm for counting features (stars in this case) in an image using basic Python.  A second implementation that relies on the NumPy library is also provided.\n",
    "\n",
    "* [Counting Stars Project Notebook](notebooks/CountingStars.ipynb)\n",
    "* [Counting Stars with NumPy Project Notebook](notebooks/CountingStarsWithNumPy.ipynb)"
   ]
  },
  {
   "cell_type": "markdown",
   "metadata": {},
   "source": [
    "### 5.2.4 Brownian Motion and Avogadro's Number"
   ]
  },
  {
   "cell_type": "markdown",
   "metadata": {},
   "source": [
    "Brownian motion is the random erratic motion of small particles immersed in a medium (like water) that is caused by the millions of tiny water molecules colliding with the larger particles.  Albert Einstein formulated a quantitative theory of Brownian motion that was confirmed experimentally by Jean Baptiste Perrin, providing the first direct evidence supporting the atomic nature of matter.  An estimate of Avogadro's number can be obtained from Einstein's equations applied to Perrin's experiment.  \n",
    "\n",
    "This project involves using image processing (like that from the Counting Stars project) to observe and quantify these tiny motions from a sequence of movie frames of a system undergoing Brownian motion.  A USB microscope can be used to capture video of milkfat globules suspended in water, providing both a programming project *and* an experimental data collection project.\n",
    "\n",
    "[Avogadro's Number Project Notebook](notebooks/BrownianMotion.ipynb)"
   ]
  },
  {
   "cell_type": "markdown",
   "metadata": {},
   "source": [
    "### 5.2.5 Data mining with Quandl"
   ]
  },
  {
   "cell_type": "markdown",
   "metadata": {},
   "source": [
    "Data science is an emerging discipline that has taken off in the last few years.  We have mountains of information waiting to be queried, sorted, understood.  Marketing data, scientific data, sociological, political, demographic data.  What can we learn by mining this data for patterns?\n",
    "\n",
    "[Quandl](https://www.quandl.com/tools/python) is an online data platform hosting data from hundreds of publishers on a single easy-to-use website. They make all the numerical data in the world available on their website in the exact format users want.  They support open data, meaning that public data must be free, open, and accessible to all.  They are an open platform - anybody can buy, sell, store or share data on Quandl.\n",
    "\n",
    "There are many different kinds of projects that students could develop by imagining questions that could be answered with data.  For example:\n",
    "\n",
    "* How do home prices in my zip code correlate with California drought cycles over the last 20 years?\n",
    "\n",
    "What kinds of datasets are there?  What kinds of questions can we ask them?  You decide."
   ]
  },
  {
   "cell_type": "markdown",
   "metadata": {},
   "source": [
    "### 5.2.6 Other Projects"
   ]
  },
  {
   "cell_type": "markdown",
   "metadata": {},
   "source": [
    "There are online repositories of interesting programming problems, such as the [Stanford Nifty assignments](http://nifty.stanford.edu/), that you can search for other project ideas.  \n",
    "\n",
    "After your experience as a STAR fellow this summer, you may have interesting projects of your own to share with your class.  The IPython notebook could help you get them involved with them."
   ]
  },
  {
   "cell_type": "markdown",
   "metadata": {},
   "source": [
    "---"
   ]
  },
  {
   "cell_type": "markdown",
   "metadata": {},
   "source": [
    "#6. Suggestions and Resources"
   ]
  },
  {
   "cell_type": "markdown",
   "metadata": {},
   "source": [
    "In case you are thinking..."
   ]
  },
  {
   "cell_type": "markdown",
   "metadata": {},
   "source": [
    "##6.1 How do I help my students if I don't know what I am doing?"
   ]
  },
  {
   "cell_type": "markdown",
   "metadata": {},
   "source": [
    "Programming is a **tool** to be used for solving interesting problems.  The easiest way to get excited about learning to use a new tool is having a problem to which you wish to apply it.  Find something that fits you or your class' interests and help them develop a solution.  \n",
    "\n",
    "You don't need to know the answers or have solved the problem already to help them learn how to attack it.  Let them be creative and propose challenging projects.  If a problem appears too complicated to solve, help them refactor the problem into something that CAN be solved.  Once they solve the simple problem, they can add complexity.  \n",
    "\n",
    "This is research - trying to find solutions to unsolved (unsolvable?) problems.  Your research mentor this summer won't know the answer to the research problem you are here to help them with (although they probably have a good starting point and a basic direction for you to follow).  Likewise, you don't need to know all the answers for your students either.  \n",
    "\n",
    "Show your students what research is really like.  Try to solve a complicated problem together."
   ]
  },
  {
   "cell_type": "markdown",
   "metadata": {},
   "source": [
    "## 6.2 Getting started"
   ]
  },
  {
   "cell_type": "markdown",
   "metadata": {},
   "source": [
    "Where to begin for yourself and your students?"
   ]
  },
  {
   "cell_type": "markdown",
   "metadata": {},
   "source": [
    "\n",
    "* Install Anaconda's IPython distribution and start working with the notebook\n",
    "* Learn to program in Python, possibly with one of these three resources\n",
    "   * [Codecademy Python Track](http://www.codecademy.com/en/tracks/python)\n",
    "   * [Learn Python The Hard Way](http://learnpythonthehardway.org/book/)\n",
    "   * [Think Python!](http://www.greenteapress.com/thinkpython/html/index.html)\n",
    "\n",
    "* Practice programming with Project Euler (independently, in pairs, in groups) on a regular basis.  \n",
    "* Find a project that interests you and your students\n",
    "   * Follow best practices for writing effective programs\n",
    "     * Discuss as a group, try to decompose it into simple logical steps\n",
    "     * Develop code for each step, testing and documenting as you go\n",
    "   * Put it all together and answer a research question with your code\n",
    "   * Create a complete record of your work in a notebook and share it (online, at a conference, science fair, etc.)\n",
    "   * Repeat!\n",
    "\n",
    "  "
   ]
  },
  {
   "cell_type": "markdown",
   "metadata": {},
   "source": [
    "## 6.3 One-stop shop for resources linked in this notebook"
   ]
  },
  {
   "cell_type": "markdown",
   "metadata": {},
   "source": [
    "**Learning to Program**\n",
    "* [Codecademy](http://www.codecademy.com/)\n",
    "* [Think Python](http://www.greenteapress.com/thinkpython/html/index.html), by Allen Downey\n",
    "* [Learn Python The Hard Way](http://learnpythonthehardway.org/book/), by Zed Shaw\n",
    "* [Software Carpentry](https://software-carpentry.org/)\n",
    "\n",
    "**Tools and Software**\n",
    "* [Continuum Analytics](http://continuum.io/)\n",
    "  * [Anaconda](https://store.continuum.io/cshop/anaconda/)\n",
    "* [IPython](http://ipython.org/)\n",
    "  * [Notebook Viewer](http://nbviewer.ipython.org/)\n",
    "* [Project Jupyter](http://jupyter.org/)\n",
    "* [Python](https://www.python.org/)\n",
    "* [SciPy](http://www.scipy.org/)\n",
    "  * [Lecture Notes](http://scipy-lectures.github.io/index.html)\n",
    "* [NumPy](http://www.numpy.org/)\n",
    "  * [Tutorials](http://wiki.scipy.org/Tentative_NumPy_Tutorial)\n",
    "* [Matplotlib](http://matplotlib.org/) \n",
    "  * [Gallery](http://matplotlib.org/gallery.html)\n",
    "\n",
    "\n",
    "**Practicing Programming**\n",
    "* [Project Euler](https://projecteuler.net/)\n",
    "* [Stanford Nifty Assignments](http://nifty.stanford.edu/)\n",
    "\n",
    "**Other**\n",
    "* [Github](https://github.com/) - for social coding\n",
    "  * [STAR 2015 Workshop materials](https://github.com/dedx/STAR2015)\n",
    "  * [Computing 4 Physics](https://github.com/Computing4Physics/C4P)\n",
    "* [Quandl](https://www.quandl.com/) - open data\n",
    "\n"
   ]
  },
  {
   "cell_type": "markdown",
   "metadata": {},
   "source": [
    "---"
   ]
  },
  {
   "cell_type": "markdown",
   "metadata": {},
   "source": [
    "# 7. Conclusion"
   ]
  },
  {
   "cell_type": "markdown",
   "metadata": {},
   "source": [
    "This notebook and workshop provide a basic entry to using the IPython Notebook to introduce and reinforce programming skills in the classroom through project-based learning.  There are so many ways to incorporate computing into learning, some general, some specific to particular subjects.  In addition to the resources included in this notebook, there are lots of great examples all over the web. Find what interests you and your students, then develop the skills you need as you tackle a project together.\n",
    "\n",
    "Happy coding!"
   ]
  }
 ],
 "metadata": {
  "kernelspec": {
   "display_name": "Python 2",
   "language": "python",
   "name": "python2"
  },
  "language_info": {
   "codemirror_mode": {
    "name": "ipython",
    "version": 2
   },
   "file_extension": ".py",
   "mimetype": "text/x-python",
   "name": "python",
   "nbconvert_exporter": "python",
   "pygments_lexer": "ipython2",
   "version": "2.7.9"
  }
 },
 "nbformat": 4,
 "nbformat_minor": 0
}
