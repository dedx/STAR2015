{
 "cells": [
  {
   "cell_type": "markdown",
   "metadata": {},
   "source": [
    "# Battleship!"
   ]
  },
  {
   "cell_type": "markdown",
   "metadata": {},
   "source": [
    "A variation on the classic game.  A ship of random length will be placed on a board whose size is determined by you, the player.  You may also select the number of turns you would like to use to try to sink it.  After each guess, the board will be updated to show your hits and misses.  If you hit all of the blocks in the ship before you run out of turns, you win!\n",
    "\n",
    "To play the game, execute the code in cells 1, 2, and 3.  If you do not yet have the `ipythonblocks` module installed, execute cell 4 first.\n",
    "\n",
    "The original code from the Codecademy lesson is included at the bottom so you can see how the project evolved from that."
   ]
  },
  {
   "cell_type": "markdown",
   "metadata": {},
   "source": [
    "---"
   ]
  },
  {
   "cell_type": "code",
   "execution_count": null,
   "metadata": {
    "collapsed": false
   },
   "outputs": [],
   "source": [
    "from random import randint\n",
    "from ipythonblocks import BlockGrid\n",
    "from IPython.display import clear_output"
   ]
  },
  {
   "cell_type": "code",
   "execution_count": null,
   "metadata": {
    "collapsed": false
   },
   "outputs": [],
   "source": [
    "def place_ship(boardsize):\n",
    "    '''\n",
    "    Place a ship randomly on the board\n",
    "    of size boardsize x boardsize.  \n",
    "    Randomly decide whether it is vertical\n",
    "    or horizontal, what length ship, the \n",
    "    placement of the first block, and check\n",
    "    that it will fit on the board.  If not,\n",
    "    adjust the placement.\n",
    "    '''\n",
    "    #Select vertical or horizontal ship\n",
    "    shipdir = randint(0,1)\n",
    "    #random ship length\n",
    "    shiplength = randint(1,boardsize-2)\n",
    "    shipstart = randint(0,boardsize-1)\n",
    "    shipend = shipstart - 1 + shiplength\n",
    "    shipdiff = boardsize - 1 - shipend\n",
    "    if shipdiff < 0:\n",
    "        shipstart += shipdiff\n",
    "        shipend += shipdiff\n",
    "    #print shipdir, shiplength, shipstart, shipend, shipdiff\n",
    "    shipside = randint(0,boardsize-1)\n",
    "    ship = []\n",
    "    if randint(0,1) == 1:\n",
    "        for i in range(shiplength):\n",
    "            ship.append((shipstart+i,shipside))\n",
    "    else:\n",
    "        for i in range(shiplength):\n",
    "            ship.append((shipside,shipstart+i))\n",
    "    return ship\n",
    "\n",
    "BLACK = (0,0,0)\n",
    "RED = (255,0,0)\n",
    "ORANGE = (255,150,0)\n",
    "OCEAN = (13, 123, 234)"
   ]
  },
  {
   "cell_type": "code",
   "execution_count": null,
   "metadata": {
    "collapsed": false
   },
   "outputs": [],
   "source": [
    "print \"Let's play Battleship!\"\n",
    "boardsize = input(\"How big should the ocean be? (Enter an integer from 4 to 20)\")\n",
    "nturns = input(\"How many shots would you like?\")\n",
    "\n",
    "board = BlockGrid(boardsize, boardsize, fill=OCEAN)\n",
    "board.show()\n",
    "\n",
    "ship = place_ship(boardsize)\n",
    "nhits = 0\n",
    "\n",
    "for turn in range(nturns):\n",
    "    #print ship\n",
    "    guess_row = input(\"Guess Row:\")\n",
    "    guess_col = input(\"Guess Col:\")\n",
    "    \n",
    "    if (guess_row < 0 or guess_row >= board.height) or (guess_col < 0 or guess_col >= board.width):\n",
    "        clear_output()\n",
    "        board.show()\n",
    "        print \"Oops, that's not even in the ocean.\"\n",
    "    else:\n",
    "        guessblock = board[guess_row,guess_col]\n",
    "        if (guess_row,guess_col) in ship:\n",
    "            clear_output()\n",
    "            board[guess_row,guess_col] = RED\n",
    "            board.show()\n",
    "            print \"It's a hit!\"\n",
    "            nhits += 1          \n",
    "        elif (guessblock.red,guessblock.green,guessblock.blue) == BLACK or (guessblock.red,guessblock.green,guessblock.blue) == RED:\n",
    "            clear_output()\n",
    "            board.show()\n",
    "            print \"You guessed that one already.\"\n",
    "        else:\n",
    "            clear_output()\n",
    "            board[guess_row,guess_col] = BLACK\n",
    "            board.show()\n",
    "            print \"You missed my battleship!\"        \n",
    "\n",
    "    if nhits == len(ship):\n",
    "        clear_output()\n",
    "        board[guess_row,guess_col] = RED\n",
    "        board.show()\n",
    "        print \"Congratulations! You sunk my battleship!\"\n",
    "        break\n",
    "\n",
    "    if turn+1 == nturns:\n",
    "        clear_output()\n",
    "        #Reveal location of ship in yellow\n",
    "        for block in ship:\n",
    "            current = board[block[0],block[1]]\n",
    "            if (current.red,current.green,current.blue) == RED:\n",
    "                pass\n",
    "            else:\n",
    "                board[block[0],block[1]] = ORANGE\n",
    "        board.show()\n",
    "        print \"Sorry, you are out of turns.  Game Over.\"\n",
    "    else:\n",
    "        print \"Remaining turns: \",nturns-1-turn"
   ]
  },
  {
   "cell_type": "markdown",
   "metadata": {},
   "source": [
    "---"
   ]
  },
  {
   "cell_type": "code",
   "execution_count": null,
   "metadata": {
    "collapsed": false
   },
   "outputs": [],
   "source": [
    "#Upgrade the Python package installer, pip, then install ipythonblocks, if not already present.\n",
    "!pip install --upgrade pip\n",
    "!pip install ipythonblocks"
   ]
  },
  {
   "cell_type": "markdown",
   "metadata": {},
   "source": [
    "#As an assignment"
   ]
  },
  {
   "cell_type": "markdown",
   "metadata": {},
   "source": [
    "This project can be assigned after a student completes the Codecademy Python lesson and becomes familiar with the module `ipythonblocks` ."
   ]
  },
  {
   "cell_type": "markdown",
   "metadata": {},
   "source": [
    "1. Open Codecademy and grab your Battleship! code from Lesson 13-18.  \n",
    "2. Copy it to a new notebook called `Battleship` and use ipythonblocks to make it more visual.  \n",
    "   * Use a light blue for the background, red for a hit and a different color of your choice for misses.  \n",
    "3. Once it is working:\n",
    "   * Expand it to a larger field\n",
    "   * Make the battleship longer\n",
    "   * Provide more tries for the player to find it and completely sink it. \n",
    "   * If the player doesn't sink the ship before the end of the game, reveal the playing board to them so they can see where it was.  \n",
    "4. Document your code with a markdown cell that explains how to run it and what the options are.  \n",
    "5. Demonstrate the game in another cell to show that it works as expected.  You do not have to provide a demo for each possible outcome.  Just one demo will do.\n",
    "6. Get creative.  You could allow ships to lie diagonally, make the player say how many tries they would like to use to sink it, add more ships, etc.  "
   ]
  },
  {
   "cell_type": "markdown",
   "metadata": {},
   "source": [
    "---"
   ]
  },
  {
   "cell_type": "markdown",
   "metadata": {},
   "source": [
    "##Codecademy Battleship Program"
   ]
  },
  {
   "cell_type": "code",
   "execution_count": null,
   "metadata": {
    "collapsed": false
   },
   "outputs": [],
   "source": [
    "from random import randint\n",
    "\n",
    "board = []\n",
    "\n",
    "for x in range(5):\n",
    "    board.append([\"O\"] * 5)\n",
    "\n",
    "def print_board(board):\n",
    "    for row in board:\n",
    "        print \" \".join(row)\n",
    "\n",
    "print \"Let's play Battleship!\"\n",
    "print_board(board)\n",
    "\n",
    "def random_row(board):\n",
    "    return randint(0, len(board) - 1)\n",
    "\n",
    "def random_col(board):\n",
    "    return randint(0, len(board[0]) - 1)\n",
    "\n",
    "ship_row = random_row(board)\n",
    "ship_col = random_col(board)\n",
    "\n",
    "# Everything from here on should go in your for loop!\n",
    "# Be sure to indent four spaces!\n",
    "for turn in range(4):\n",
    "    guess_row = input(\"Guess Row:\")\n",
    "    guess_col = input(\"Guess Col:\")\n",
    "\n",
    "    if guess_row == ship_row and guess_col == ship_col:\n",
    "        print \"Congratulations! You sunk my battleship!\"\n",
    "        break\n",
    "    else:\n",
    "        if (guess_row < 0 or guess_row > 4) or (guess_col < 0 or guess_col > 4):\n",
    "            print \"Oops, that's not even in the ocean.\"\n",
    "        elif(board[guess_row][guess_col] == \"X\"):\n",
    "            print \"You guessed that one already.\"\n",
    "        else:\n",
    "            print \"You missed my battleship!\"\n",
    "            board[guess_row][guess_col] = \"X\"\n",
    "        # Print (turn + 1) here!\n",
    "    if turn == 3:\n",
    "        print \"Ship was located at row \" + str(ship_row) + \", col \" + str(ship_col)\n",
    "        print \"Game Over\"\n",
    "    else:\n",
    "        print turn+1\n",
    "        print_board(board)"
   ]
  },
  {
   "cell_type": "markdown",
   "metadata": {},
   "source": [
    "---"
   ]
  }
 ],
 "metadata": {
  "kernelspec": {
   "display_name": "Python 2",
   "language": "python",
   "name": "python2"
  },
  "language_info": {
   "codemirror_mode": {
    "name": "ipython",
    "version": 2
   },
   "file_extension": ".py",
   "mimetype": "text/x-python",
   "name": "python",
   "nbconvert_exporter": "python",
   "pygments_lexer": "ipython2",
   "version": "2.7.9"
  }
 },
 "nbformat": 4,
 "nbformat_minor": 0
}
