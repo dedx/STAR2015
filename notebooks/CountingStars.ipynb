{
 "cells": [
  {
   "cell_type": "markdown",
   "metadata": {},
   "source": [
    "#Counting Stars"
   ]
  },
  {
   "cell_type": "markdown",
   "metadata": {},
   "source": [
    "Based on the [Multimedia Programming](http://software-carpentry.org/v4/media/index.html) lesson at [Software Carpentry](http://software-carpentry.org)."
   ]
  },
  {
   "cell_type": "markdown",
   "metadata": {},
   "source": [
    "---"
   ]
  },
  {
   "cell_type": "code",
   "execution_count": null,
   "metadata": {
    "collapsed": false
   },
   "outputs": [],
   "source": [
    "%pylab inline\n",
    "import numpy as np\n",
    "import matplotlib.pyplot as plt"
   ]
  },
  {
   "cell_type": "markdown",
   "metadata": {},
   "source": [
    "## Image I/O"
   ]
  },
  {
   "cell_type": "markdown",
   "metadata": {},
   "source": [
    "Reading in and manipulating image data can be accomplished with NumPy or another built-in image library designed for image processing, such as the \"Python Imaging Library\" or [PIL](http://www.pythonware.com/products/pil/)."
   ]
  },
  {
   "cell_type": "markdown",
   "metadata": {},
   "source": [
    "For example, we might want to read in a beautiful image of a star field taken by the Hubble Space Telescope.  Have a look at some of these images:\n",
    "\n",
    "* [http://imgsrc.hubblesite.org/hu/db/images/hs-2004-20-a-large_web.jpg](http://imgsrc.hubblesite.org/hu/db/images/hs-2004-20-a-large_web.jpg)\n",
    "* [http://imgsrc.hubblesite.org/hu/db/images/hs-1993-13-a-large_web.jpg](http://imgsrc.hubblesite.org/hu/db/images/hs-1993-13-a-large_web.jpg)\n",
    "* [http://imgsrc.hubblesite.org/hu/db/images/hs-1995-32-c-full_jpg.jpg](http://imgsrc.hubblesite.org/hu/db/images/hs-1995-32-c-full_jpg.jpg)\n",
    "* [http://imgsrc.hubblesite.org/hu/db/images/hs-1993-13-a-large_web.jpg](http://imgsrc.hubblesite.org/hu/db/images/hs-1993-13-a-large_web.jpg)\n",
    "* [http://imgsrc.hubblesite.org/hu/db/images/hs-2002-10-c-large_web.jpg](http://imgsrc.hubblesite.org/hu/db/images/hs-2002-10-c-large_web.jpg)\n",
    "* [http://imgsrc.hubblesite.org/hu/db/images/hs-1999-30-b-full_jpg.jpg](http://imgsrc.hubblesite.org/hu/db/images/hs-1999-30-b-full_jpg.jpg)"
   ]
  },
  {
   "cell_type": "markdown",
   "metadata": {},
   "source": [
    "Recall that color images are just arrays of numbers representing pixel locations and the color depth of each of Red, Green, and Blue.  The different file formats (`jpg`, `png`, `tiff`, etc.) also contain additional information (headers, for example) that an image reading function needs to know about.  We can use PIL to read image data into NumPy arrays.  If we want to fetch a file off the web, we also need some help from the `requests` and `StringIO` libraries: "
   ]
  },
  {
   "cell_type": "code",
   "execution_count": null,
   "metadata": {
    "collapsed": false
   },
   "outputs": [],
   "source": [
    "from PIL import Image\n",
    "import requests\n",
    "from StringIO import StringIO"
   ]
  },
  {
   "cell_type": "code",
   "execution_count": null,
   "metadata": {
    "collapsed": false
   },
   "outputs": [],
   "source": [
    "#Pick an image from the list above and fetch it with requests.get.  \n",
    "#It's okay to do a copy/paste here.\n",
    "#The default picture here is of M45 - the Pleiades Star Cluster.\n",
    "response = requests.get(\"http://imgsrc.hubblesite.org/hu/db/images/hs-2004-20-a-large_web.jpg\")\n",
    "pic = Image.open(StringIO(response.content))"
   ]
  },
  {
   "cell_type": "markdown",
   "metadata": {},
   "source": [
    "Plot the image using `matplotlib`:"
   ]
  },
  {
   "cell_type": "code",
   "execution_count": null,
   "metadata": {
    "collapsed": false
   },
   "outputs": [],
   "source": [
    "plt.imshow(pic);"
   ]
  },
  {
   "cell_type": "markdown",
   "metadata": {},
   "source": [
    "Examine image properties"
   ]
  },
  {
   "cell_type": "code",
   "execution_count": null,
   "metadata": {
    "collapsed": false
   },
   "outputs": [],
   "source": [
    "pic.format"
   ]
  },
  {
   "cell_type": "markdown",
   "metadata": {},
   "source": [
    "Pixel coordinates are (x,y) tuples with (0,0) the upper left corner because that's how old CRT monitors drew things."
   ]
  },
  {
   "cell_type": "code",
   "execution_count": null,
   "metadata": {
    "collapsed": false
   },
   "outputs": [],
   "source": [
    "pic.size"
   ]
  },
  {
   "cell_type": "markdown",
   "metadata": {},
   "source": [
    "Colors are represented by RGB triples.  Black is (0,0,0), White is (255, 255, 255) or (0xFF, 0xFF, 0xFF) in hexadecimal.  Think of it as a color cube with the three axes representing the different possible colors.  The furthest away from the origin (black) is white."
   ]
  },
  {
   "cell_type": "code",
   "execution_count": null,
   "metadata": {
    "collapsed": false
   },
   "outputs": [],
   "source": [
    "#Color tuple (R,G,B) of very first pixel\n",
    "pic.getpixel((0,0))"
   ]
  },
  {
   "cell_type": "markdown",
   "metadata": {},
   "source": [
    "#### Where is the brightest pixel?  \"Bright\" here means the one with the largest color value, represented as the sum of the RGB values."
   ]
  },
  {
   "cell_type": "code",
   "execution_count": null,
   "metadata": {
    "collapsed": false
   },
   "outputs": [],
   "source": [
    "xsize, ysize = pic.size\n",
    "max_val = 0\n",
    "for x in range(xsize):\n",
    "    for y in range(ysize):\n",
    "        r,g,b = pic.getpixel((x,y))\n",
    "        if r+g+b > max_val:\n",
    "            bx, by, max_val = x, y, r+g+b\n",
    "print (bx,by), max_val"
   ]
  },
  {
   "cell_type": "markdown",
   "metadata": {},
   "source": [
    "By comparison, the greatest possible value is 3 * 255, or 765."
   ]
  },
  {
   "cell_type": "markdown",
   "metadata": {},
   "source": [
    "Encapsulate this code into a function that could be used on any picture:"
   ]
  },
  {
   "cell_type": "code",
   "execution_count": null,
   "metadata": {
    "collapsed": false
   },
   "outputs": [],
   "source": [
    "def brightest(picture):\n",
    "    \"\"\"add up each pixel's color values \n",
    "    to approximate its overall luminance\"\"\"\n",
    "    xsize, ysize = picture.size\n",
    "    bx, by, max_val = 0, 0, 0\n",
    "    for x in range(xsize):\n",
    "        for y in range(ysize):\n",
    "            r,g,b = pic.getpixel((x,y))\n",
    "            if r+g+b > max_val:\n",
    "                bx, by, max_val = x, y, r+g+b\n",
    "    return (bx, by), max_val\n"
   ]
  },
  {
   "cell_type": "markdown",
   "metadata": {},
   "source": [
    "#### How long does it take to find the result for our image?  Let's import the time library and use it to find out."
   ]
  },
  {
   "cell_type": "code",
   "execution_count": null,
   "metadata": {
    "collapsed": false
   },
   "outputs": [],
   "source": [
    "from time import time\n",
    "def elapsed(func, picture):\n",
    "    \"\"\"takes a function and a picture as arguments, \n",
    "    applies the function to the picture, and returns \n",
    "    the elapsed time along with whatever the function \n",
    "    itself returned.\"\"\"    \n",
    "    start = time()\n",
    "    result = func(picture)\n",
    "    return time() - start, result"
   ]
  },
  {
   "cell_type": "markdown",
   "metadata": {},
   "source": [
    "Now run it with your picture data:"
   ]
  },
  {
   "cell_type": "code",
   "execution_count": null,
   "metadata": {
    "collapsed": false
   },
   "outputs": [],
   "source": [
    "print elapsed(brightest,pic)"
   ]
  },
  {
   "cell_type": "markdown",
   "metadata": {},
   "source": [
    "We could process the information faster if we use the PIL `getdata` function to unpack the row-and-column representation of the image to create a vector of pixels, and then loops over that."
   ]
  },
  {
   "cell_type": "code",
   "execution_count": null,
   "metadata": {
    "collapsed": false
   },
   "outputs": [],
   "source": [
    "def faster(picture):\n",
    "    \"\"\"This function, 'faster', uses \n",
    "    'picture.getdata' to unpack the \n",
    "    row-and-column representation of the \n",
    "    image to create a vector of pixels, \n",
    "    and then loops over that.\"\"\"\n",
    "    max_val = 0\n",
    "    for (r,g,b) in picture.getdata():\n",
    "        if r+g+b > max_val:\n",
    "            max_val = r + g + b\n",
    "    return max_val"
   ]
  },
  {
   "cell_type": "code",
   "execution_count": null,
   "metadata": {
    "collapsed": false
   },
   "outputs": [],
   "source": [
    "print elapsed(faster,pic)"
   ]
  },
  {
   "cell_type": "markdown",
   "metadata": {},
   "source": [
    "This is faster because the pixels are unpacked into a 1-D array row-by-row.  This function is more than nine times faster than its predecessor, partly because we are not translating between (x,y) coordinates and pixel locations in memory over and over again, and partly because the '`getdata`' method unpacks the pixels to make them more accessible."
   ]
  },
  {
   "cell_type": "markdown",
   "metadata": {},
   "source": [
    "But now we don't have the coordinates of the brightest pixel.  We could calculate it from the location in the 1-D array but that is a bit of a pain.  A useful alternative is to call '`picture.load`', which unpacks the picture's pixels in memory, so that you can index the picture as if it was an array."
   ]
  },
  {
   "cell_type": "code",
   "execution_count": null,
   "metadata": {
    "collapsed": false
   },
   "outputs": [],
   "source": [
    "def in_between(picture):\n",
    "    xsize, ysize = picture.size\n",
    "    temp = picture.load()\n",
    "    bx, by, max_val = 0, 0, 0\n",
    "    for x in range(xsize):\n",
    "        for y in range(ysize):\n",
    "            r,g,b = temp[x,y]\n",
    "            if r+g+b > max_val:\n",
    "                bx, by, max_val = x,y,r+g+b\n",
    "    return (bx, by), max_val"
   ]
  },
  {
   "cell_type": "code",
   "execution_count": null,
   "metadata": {
    "collapsed": false
   },
   "outputs": [],
   "source": [
    "print elapsed(in_between,pic)"
   ]
  },
  {
   "cell_type": "markdown",
   "metadata": {},
   "source": [
    "**Note:** If the picture can be read in as a NumPy array, you can use masks and aggregates to make this even faster.  There is overhead in creating the NumPy array from the image but once it is an array, the operations are lightning fast because they don't require loops."
   ]
  },
  {
   "cell_type": "code",
   "execution_count": null,
   "metadata": {
    "collapsed": false
   },
   "outputs": [],
   "source": [
    "#create numpy array of image data\n",
    "myimg = np.array(pic.getdata(), np.uint8).reshape(pic.size[1], pic.size[0], 3)\n",
    "\n",
    "#find max pixel with aggregates\n",
    "def with_numpy(picture):\n",
    "  return picture.sum(axis=2).max()\n",
    "\n",
    "print elapsed(with_numpy,myimg)"
   ]
  },
  {
   "cell_type": "markdown",
   "metadata": {},
   "source": [
    "Which of the forms you should use in a particular situation depends on what information you need from the image, what format they are, and how big the images you're working with are."
   ]
  },
  {
   "cell_type": "markdown",
   "metadata": {},
   "source": [
    "## Finding Stars"
   ]
  },
  {
   "cell_type": "markdown",
   "metadata": {},
   "source": [
    "Let's use what we've learned to count stars in our image.  Start by converting the image to B/W, so that which pixels belong to stars and which don't is unambiguous.  We'll use black for stars and white for background, since it's easier to see black-on-white than the reverse."
   ]
  },
  {
   "cell_type": "code",
   "execution_count": null,
   "metadata": {
    "collapsed": false
   },
   "outputs": [],
   "source": [
    "def monochrome(picture, threshold):\n",
    "    \"\"\"loops over the pixels in the loaded image, \n",
    "    replacing the RGB values of each with either \n",
    "    black or white depending on whether its total \n",
    "    luminance is above or below some threshold \n",
    "    passed in by the user\"\"\"\n",
    "    black = (0, 0, 0)\n",
    "    white = (255, 255, 255)\n",
    "    xsize, ysize = picture.size\n",
    "    temp = picture.load()\n",
    "    for x in range(xsize):\n",
    "        for y in range(ysize):\n",
    "            r,g,b = temp[x,y]\n",
    "            if r+g+b >= threshold: \n",
    "                temp[x,y] = black\n",
    "            else:\n",
    "                temp[x,y] = white"
   ]
  },
  {
   "cell_type": "markdown",
   "metadata": {},
   "source": [
    "Could you do this faster with masks?"
   ]
  },
  {
   "cell_type": "code",
   "execution_count": null,
   "metadata": {
    "collapsed": false
   },
   "outputs": [],
   "source": [
    "#Get another copy to convert to B/W\n",
    "bwpic = Image.open(StringIO(response.content))\n",
    "\n",
    "#Remember, this threshold is a scalar, not an RGB triple\n",
    "#we're looking for pixels whose total color value is 600 or greater\n",
    "monochrome(bwpic,200+200+200)\n",
    "plt.imshow(bwpic);"
   ]
  },
  {
   "cell_type": "markdown",
   "metadata": {},
   "source": [
    "Now we can start counting stars by counting \"blobs\" of connected or adjacent black pixels.  \n",
    "\n",
    "1. Decide what we mean by \"adjacent\": sharing sides of square pixels but not corners.  i.e. directly above, below, left, or right from each other, not if they are touching diagonally.\n",
    "\n",
    "2. Count each one just once.\n",
    "  * Scan the image left-right, top-bottom\n",
    "  * Each time we find a new blob, increment the count"
   ]
  },
  {
   "cell_type": "markdown",
   "metadata": {},
   "source": [
    "How do we tell whether the pixel we're looking at is part of a new blob or not?"
   ]
  },
  {
   "cell_type": "markdown",
   "metadata": {},
   "source": [
    "We could mark counted pixels by turning black ones red.  (Hmm...sounds a bit like ipythonblocks!  In fact, ipythonblocks can also [read in images and manipulate them](http://nbviewer.ipython.org/github/jiffyclub/ipythonblocks/blob/master/demos/ipythonblocks_imagegrid.ipynb) as ImageGrid objects!)  \n",
    "\n",
    "If the pixel we're looking at touches one that has already been turned red, then it's part of a blob we have already counted. We'll turn it red to show that we have looked at it, but we won't count it as a star, since it belongs to a star we've already counted."
   ]
  },
  {
   "cell_type": "markdown",
   "metadata": {},
   "source": [
    "<table align=\"center\">\n",
    "<tr>\n",
    "<td width=\"25%\"><img src=\"../img/Slide01.jpg\" width=300> Sweep across the field left-to-right, top-to-bottom, until we find the first non-zero pixel.</td>\n",
    "<td width=\"25%\"><img src=\"../img/Slide02.jpg\" width=300> Once it is found mark it as red.</td>\n",
    "<td width=\"25%\"><img src=\"../img/Slide03.jpg\" width=300> Look to the left and above to see if it is part of an already counted blob.  If not, increment the counter.</td>\n",
    "<td width=\"25%\"><img src=\"../img/Slide04.jpg\" width=300> Proceed to the right.</td>\n",
    "</tr>\n",
    "<tr>\n",
    "<td width=\"25%\"><img src=\"../img/Slide05.jpg\" width=300> Follow the same procedure as before to decide whether the count should be incremented.</td>\n",
    "<td width=\"25%\"><img src=\"../img/Slide06.jpg\" width=300> When we reach the next blob, repeat.</td>\n",
    "<td width=\"25%\"><img src=\"../img/Slide07.jpg\" width=300> Hmm...Maybe we should modify the \"already counted\" procedure?</td>\n",
    "<td width=\"25%\"><img src=\"../img/Slide08.jpg\" width=300> We could add the diagonals...</td>\n",
    "</tr>\n",
    "<tr>\n",
    "<td width=\"25%\"><img src=\"../img/Slide09.jpg\" width=300> But that could fail on the this pixel.</td>\n",
    "<td width=\"25%\"><img src=\"../img/Slide10.jpg\" width=250> And what about a case like this?</td>\n",
    "<td width=\"25%\"><img src=\"../img/Slide11.jpg\" width=250> Maybe we could try a \"flood-fill\" algorithm.  Sweep across the field until a black pixel is encountered.</td>\n",
    "<td width=\"25%\"><img src=\"../img/Slide12.jpg\" width=250> Mark it red.</td>\n",
    "</tr>\n",
    "<tr>\n",
    "<td width=\"25%\"><img src=\"../img/Slide13.jpg\" width=250> Check for neighbors on all sides.</td>\n",
    "<td width=\"25%\"><img src=\"../img/Slide14.jpg\" width=250> Move to the first neighbor and mark it red.</td>\n",
    "<td width=\"25%\"><img src=\"../img/Slide15.jpg\" width=250> Now check its neighbors and repeat until there are no more unchecked neighbors.\n",
    "<td width=\"25%\"><img src=\"../img/Slide16.jpg\" width=250> Done.</td>\n",
    "</tr>\n",
    "</table>"
   ]
  },
  {
   "cell_type": "markdown",
   "metadata": {},
   "source": [
    "Let's see how to implement such an algorithm.  \n",
    "\n",
    "First, implement a function to do our counting:"
   ]
  },
  {
   "cell_type": "code",
   "execution_count": null,
   "metadata": {
    "collapsed": false
   },
   "outputs": [],
   "source": [
    "BLACK = (0,0,0)\n",
    "RED = (255,0,0)\n",
    "def count(picture):\n",
    "    \"\"\"scan the image top to bottom and left to right using a nested loop.\n",
    "    when black pixel is found, increment the count, then call the fill\n",
    "    function to fill in all the pixels connected to that one.\"\"\"\n",
    "    xsize, ysize = picture.size\n",
    "    temp = picture.load()\n",
    "    result = 0\n",
    "    for x in range(xsize):\n",
    "        for y in range(ysize):\n",
    "            if temp[x,y] == BLACK:\n",
    "                result += 1\n",
    "                fill(temp,xsize,ysize,x,y)\n",
    "    return result"
   ]
  },
  {
   "cell_type": "markdown",
   "metadata": {},
   "source": [
    "Uh... we don't have a \"`fill`\" function yet.  What would it look like?  Maybe we could set it up as follows:"
   ]
  },
  {
   "cell_type": "markdown",
   "metadata": {},
   "source": [
    "1.  Keep list of (x,y) coordinates to be examined (the \"queue\").\n",
    "\n",
    "2.  Loop until queue is empty:\n",
    "   * Take (x,y) coordinates from queue\n",
    "   * If black, fill it in and add neighbors to queue\n",
    "\n",
    "Here's what it might look like:"
   ]
  },
  {
   "cell_type": "code",
   "execution_count": null,
   "metadata": {
    "collapsed": false
   },
   "outputs": [],
   "source": [
    "def fill(picture, xsize, ysize, xstart, ystart):\n",
    "    \"\"\"keep a list of pixels that need to be looked at, \n",
    "    but haven't yet been filled in - a list of the (x,y) \n",
    "    coordinates of pixels that are neighbors of ones we have \n",
    "    already examined.  Keep looping until there's nothing \n",
    "    left in this list\"\"\"\n",
    "    queue = [(xstart,ystart)]\n",
    "    #print \"queue start:\",queue\n",
    "    qcount = 0\n",
    "    while queue:\n",
    "        #print qcount,\": \",queue\n",
    "        x,y,queue = queue[0][0], queue[0][1], queue[1:]\n",
    "        if picture[x,y] == BLACK:\n",
    "            picture[x,y] = RED\n",
    "            if x > 0:\n",
    "                queue.append((x-1,y))\n",
    "            if x < (xsize-1):\n",
    "                queue.append((x+1,y))\n",
    "            if y > 0:\n",
    "                queue.append((x, y-1))\n",
    "            if y < (ysize-1):\n",
    "                queue.append((x, y+1))\n",
    "        qcount+=1\n",
    "                "
   ]
  },
  {
   "cell_type": "code",
   "execution_count": null,
   "metadata": {
    "collapsed": false
   },
   "outputs": [],
   "source": [
    "count(bwpic)"
   ]
  },
  {
   "cell_type": "markdown",
   "metadata": {},
   "source": [
    "Here's the '`fill`' algorithm in action. \n",
    "\n",
    "<table align=\"center\">\n",
    "<tr>\n",
    "<td width=\"50%\"><img src=\"../img/Slide17.jpg\" width=500> Our initial pixel is (1, 3). We turn it red…</td>\n",
    "<td width=\"50%\"><img src=\"../img/Slide18.jpg\" width=500> …and put its four neighbors in the queue.</td>\n",
    "</tr>\n",
    "<tr>\n",
    "<td width=\"50%\"><img src=\"../img/Slide19.jpg\" width=500> The next three loops aren't very interesting, since the pixels left, above, and right of our starting point aren't black. On the fourth pass, though, when our queue only contains one lonely pixel, we find that it is black, so we fill it in…</td>\n",
    "<td width=\"50%\"><img src=\"../img/Slide20.jpg\" width=500> …and put its neighbors in the queue.  The next time around the loop, we will look at our starting point (1, 3) a second time, which is wasteful.  We should find a way to rewrite '`fill`' so that it never examines a pixel twice.  We'll leave that as an exercise.</td>\n",
    "</tr>\n",
    "</table>"
   ]
  },
  {
   "cell_type": "markdown",
   "metadata": {},
   "source": [
    "##Exercise"
   ]
  },
  {
   "cell_type": "markdown",
   "metadata": {},
   "source": [
    "Write a variation on the `count` function to keep track of the pixels in a given blob and use the brightest pixel in the blob as the \"location\" of the star. Use NumPy's I/O functions to write out a text file containing\n",
    "\n",
    "* a **header** which includes\n",
    "      * the link to the image\n",
    "      * the threshold value used in the conversion to monochrome\n",
    "      * the structuring element used to count its stars\n",
    "      * how many stars were found\n",
    "      * a description of the data in the subsequent columns\n",
    "   * a **list of the star data** organized in three columns and formatted for easy reading as follows:\n",
    "      * location (x,y in pixel units)\n",
    "      * maximum brightness value for the star\n",
    "   \n",
    "Apply your function to the six images at the top of the page."
   ]
  },
  {
   "cell_type": "markdown",
   "metadata": {},
   "source": [
    "---"
   ]
  },
  {
   "cell_type": "markdown",
   "metadata": {},
   "source": [
    "You can also review the accompanying notebook [Counting Stars with NumPy](CountingStarsWithNumPy.ipynb) to see how much of this project can be streamlined using the efficiencies provided with NumPy arrays."
   ]
  },
  {
   "cell_type": "markdown",
   "metadata": {},
   "source": [
    "---"
   ]
  }
 ],
 "metadata": {
  "kernelspec": {
   "display_name": "Python 2",
   "language": "python",
   "name": "python2"
  },
  "language_info": {
   "codemirror_mode": {
    "name": "ipython",
    "version": 2
   },
   "file_extension": ".py",
   "mimetype": "text/x-python",
   "name": "python",
   "nbconvert_exporter": "python",
   "pygments_lexer": "ipython2",
   "version": "2.7.9"
  }
 },
 "nbformat": 4,
 "nbformat_minor": 0
}
