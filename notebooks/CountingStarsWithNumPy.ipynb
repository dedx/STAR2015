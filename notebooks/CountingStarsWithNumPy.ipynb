{
 "cells": [
  {
   "cell_type": "markdown",
   "metadata": {},
   "source": [
    "# Counting Stars with NumPy"
   ]
  },
  {
   "cell_type": "markdown",
   "metadata": {},
   "source": [
    "This example introduces some of the image processing capabilities available with NumPy and the SciPy `ndimage` package.  More extensive documentation and tutorials can be found through the [SciPy Lectures series](http://scipy-lectures.github.io/advanced/image_processing/index.html#basic-image).  "
   ]
  },
  {
   "cell_type": "markdown",
   "metadata": {},
   "source": [
    "### Image I/O"
   ]
  },
  {
   "cell_type": "markdown",
   "metadata": {},
   "source": [
    "Here is a list of beautiful star field images taken by the Hubble Space Telescope:\n",
    "\n",
    "* [http://imgsrc.hubblesite.org/hu/db/images/hs-2004-20-a-large_web.jpg](http://imgsrc.hubblesite.org/hu/db/images/hs-2004-20-a-large_web.jpg)\n",
    "* [http://imgsrc.hubblesite.org/hu/db/images/hs-1993-13-a-large_web.jpg](http://imgsrc.hubblesite.org/hu/db/images/hs-1993-13-a-large_web.jpg)\n",
    "* [http://imgsrc.hubblesite.org/hu/db/images/hs-1995-32-c-full_jpg.jpg](http://imgsrc.hubblesite.org/hu/db/images/hs-1995-32-c-full_jpg.jpg)\n",
    "* [http://imgsrc.hubblesite.org/hu/db/images/hs-1993-13-a-large_web.jpg](http://imgsrc.hubblesite.org/hu/db/images/hs-1993-13-a-large_web.jpg)\n",
    "* [http://imgsrc.hubblesite.org/hu/db/images/hs-2002-10-c-large_web.jpg](http://imgsrc.hubblesite.org/hu/db/images/hs-2002-10-c-large_web.jpg)\n",
    "* [http://imgsrc.hubblesite.org/hu/db/images/hs-1999-30-b-full_jpg.jpg](http://imgsrc.hubblesite.org/hu/db/images/hs-1999-30-b-full_jpg.jpg)"
   ]
  },
  {
   "cell_type": "markdown",
   "metadata": {},
   "source": [
    "We can use the SciPy `ndimage` library to read image data into NumPy arrays.  If we want to fetch a file off the web, we also need some help from the `requests` and `StringIO` libraries: "
   ]
  },
  {
   "cell_type": "code",
   "execution_count": null,
   "metadata": {
    "collapsed": false
   },
   "outputs": [],
   "source": [
    "import scipy.ndimage as ndi\n",
    "import requests\n",
    "from StringIO import StringIO"
   ]
  },
  {
   "cell_type": "code",
   "execution_count": null,
   "metadata": {
    "collapsed": false
   },
   "outputs": [],
   "source": [
    "#Pick an image from the list above and fetch it with requests.get \n",
    "#The default picture here is of M45 - the Pleiades Star Cluster.\n",
    "response = requests.get(\"http://imgsrc.hubblesite.org/hu/db/images/hs-2004-20-a-large_web.jpg\")\n",
    "pic = ndi.imread(StringIO(response.content))"
   ]
  },
  {
   "cell_type": "markdown",
   "metadata": {},
   "source": [
    "### Image Visualization"
   ]
  },
  {
   "cell_type": "markdown",
   "metadata": {},
   "source": [
    "We can plot the image using `matplotlib`:"
   ]
  },
  {
   "cell_type": "code",
   "execution_count": null,
   "metadata": {
    "collapsed": false
   },
   "outputs": [],
   "source": [
    "%pylab inline\n",
    "import matplotlib.pyplot as plt"
   ]
  },
  {
   "cell_type": "code",
   "execution_count": null,
   "metadata": {
    "collapsed": false
   },
   "outputs": [],
   "source": [
    "plt.imshow(pic);"
   ]
  },
  {
   "cell_type": "markdown",
   "metadata": {},
   "source": [
    "### Image Inspection"
   ]
  },
  {
   "cell_type": "markdown",
   "metadata": {},
   "source": [
    "We can examine the image properties:"
   ]
  },
  {
   "cell_type": "code",
   "execution_count": null,
   "metadata": {
    "collapsed": false
   },
   "outputs": [],
   "source": [
    "print pic.shape"
   ]
  },
  {
   "cell_type": "markdown",
   "metadata": {},
   "source": [
    "Pixel coordinates are (column,row)."
   ]
  },
  {
   "cell_type": "markdown",
   "metadata": {},
   "source": [
    "Colors are represented by RGB triples.  Black is (0,0,0), White is (255, 255, 255) or (0xFF, 0xFF, 0xFF) in hexadecimal.  Think of it as a color cube with the three axes representing the different possible colors.  The furthest away from the origin (black) is white."
   ]
  },
  {
   "cell_type": "code",
   "execution_count": null,
   "metadata": {
    "collapsed": false
   },
   "outputs": [],
   "source": [
    "#Color array [R,G,B] of very first pixel\n",
    "print pic[0,0]"
   ]
  },
  {
   "cell_type": "markdown",
   "metadata": {},
   "source": [
    "We could write code to find the brightest pixel in the image, where \"brightest\" means highest value of R+G+B.  For the 256 color scale, the greatest possible value is 3 * 255, or 765.  One way to do this would be to write a set of nested loops over the pixel dimensions, calculating the sum R+G+B for each pixel, but that would be rather tedious and slow. \n",
    "\n",
    "We could process the information faster if we take advantage of the speedy NumPy slicing, aggregates, and ufuncs.  Remember that any time we can eliminate interpreted Python loops we save a lot of processing time."
   ]
  },
  {
   "cell_type": "code",
   "execution_count": null,
   "metadata": {
    "collapsed": false
   },
   "outputs": [],
   "source": [
    "#find value of max pixel with aggregates\n",
    "print pic.sum(axis=2).max() #numbering from 0, axis 2 is the color depth"
   ]
  },
  {
   "cell_type": "markdown",
   "metadata": {},
   "source": [
    "### Image Feature Extraction"
   ]
  },
  {
   "cell_type": "markdown",
   "metadata": {},
   "source": [
    "Now that we know how to read in the image as a NumPy array, let's count the stars above some threshold brightness. Start by converting the image to B/W, so that which pixels belong to stars and which don't is unambiguous.  We'll use black for stars and white for background, since it's easier to see black-on-white than the reverse."
   ]
  },
  {
   "cell_type": "code",
   "execution_count": null,
   "metadata": {
    "collapsed": false
   },
   "outputs": [],
   "source": [
    "def monochrome(pic_array, threshold):\n",
    "    \"\"\"replace the RGB values in the loaded image with either \n",
    "    black or white depending on whether its total \n",
    "    luminance is above or below some threshold \n",
    "    passed in by the user\"\"\"\n",
    "    mask = (pic_array.sum(axis=2) >= threshold) #could also be done in one step\n",
    "    pic_array[mask] = 0 #BLACK - broadcasting at work here\n",
    "    pic_array[~mask] = 255 #WHITE - broadcasting at work here\n",
    "    return"
   ]
  },
  {
   "cell_type": "code",
   "execution_count": null,
   "metadata": {
    "collapsed": false
   },
   "outputs": [],
   "source": [
    "#Get another copy to convert to B/W\n",
    "bwpic = ndi.imread(StringIO(response.content))\n",
    "\n",
    "#This threshold is a scalar, not an RGB triple\n",
    "#We're looking for pixels whose total color value is 600 or greater\n",
    "monochrome(bwpic,200+200+200)\n",
    "plt.imshow(bwpic);"
   ]
  },
  {
   "cell_type": "markdown",
   "metadata": {},
   "source": [
    "The way to count the features (stars) in the image is to identify \"blobs\" of connected or adjacent black pixels.  "
   ]
  },
  {
   "cell_type": "markdown",
   "metadata": {},
   "source": [
    "A traditional implementation of this algorithm using plain Python loops is presented in the [Multimedia Programming](http://software-carpentry.org/v4/media/) lesson from [Software Carpentry](http://software-carpentry.org/index.html).  This was covered in the notebook [Counting Stars](CountingStars.ipynb).  \n",
    "\n",
    "Let's see how to implement such an algorithm much more efficiently using `numpy` and `scipy.ndimage`.  "
   ]
  },
  {
   "cell_type": "markdown",
   "metadata": {},
   "source": [
    "The `scipy.ndimage.label` function will use a structuring element (cross-shaped by default) to search for features.  As an example, consider the simple array:"
   ]
  },
  {
   "cell_type": "code",
   "execution_count": null,
   "metadata": {
    "collapsed": false
   },
   "outputs": [],
   "source": [
    "a = np.array([[0,0,1,1,0,0],\n",
    "              [0,0,0,1,0,0],\n",
    "              [1,1,0,0,1,0],\n",
    "              [0,0,0,1,0,0]])"
   ]
  },
  {
   "cell_type": "markdown",
   "metadata": {},
   "source": [
    "There are four unique features here, if we only count those that have neighbors along a cross-shaped structuring element."
   ]
  },
  {
   "cell_type": "code",
   "execution_count": null,
   "metadata": {
    "collapsed": false
   },
   "outputs": [],
   "source": [
    "labeled_array, num_features = ndi.label(a)"
   ]
  },
  {
   "cell_type": "code",
   "execution_count": null,
   "metadata": {
    "collapsed": false
   },
   "outputs": [],
   "source": [
    "print(num_features)"
   ]
  },
  {
   "cell_type": "code",
   "execution_count": null,
   "metadata": {
    "collapsed": false
   },
   "outputs": [],
   "source": [
    "print(labeled_array)"
   ]
  },
  {
   "cell_type": "markdown",
   "metadata": {},
   "source": [
    "If we wish to consider elements connected on the diagonal, as well as the cross structure, we define a new structuring element:"
   ]
  },
  {
   "cell_type": "code",
   "execution_count": null,
   "metadata": {
    "collapsed": false
   },
   "outputs": [],
   "source": [
    "s = [[1,1,1],\n",
    "     [1,1,1],\n",
    "     [1,1,1]]\n",
    "\n",
    "#Note, that scipy.ndimage.generate_binary_structure(2,2) would also do the same thing.\n",
    "print s"
   ]
  },
  {
   "cell_type": "markdown",
   "metadata": {},
   "source": [
    "Label the image using the new structuring element:"
   ]
  },
  {
   "cell_type": "code",
   "execution_count": null,
   "metadata": {
    "collapsed": false
   },
   "outputs": [],
   "source": [
    "labeled_array, num_features = ndi.label(a, structure=s)"
   ]
  },
  {
   "cell_type": "code",
   "execution_count": null,
   "metadata": {
    "collapsed": false
   },
   "outputs": [],
   "source": [
    "print(num_features)"
   ]
  },
  {
   "cell_type": "markdown",
   "metadata": {},
   "source": [
    "Note that features 1, 3, and 4 from above are now considered a single feature"
   ]
  },
  {
   "cell_type": "code",
   "execution_count": null,
   "metadata": {
    "collapsed": false
   },
   "outputs": [],
   "source": [
    "print(labeled_array)"
   ]
  },
  {
   "cell_type": "markdown",
   "metadata": {},
   "source": [
    "Let's use `ndi.label` to count up the stars in our B/W starfield image."
   ]
  },
  {
   "cell_type": "code",
   "execution_count": null,
   "metadata": {
    "collapsed": false
   },
   "outputs": [],
   "source": [
    "labeled_array, num_stars = ndi.label(~bwpic) #Count and label the complement"
   ]
  },
  {
   "cell_type": "code",
   "execution_count": null,
   "metadata": {
    "collapsed": false
   },
   "outputs": [],
   "source": [
    "print num_stars"
   ]
  },
  {
   "cell_type": "code",
   "execution_count": null,
   "metadata": {
    "collapsed": false
   },
   "outputs": [],
   "source": [
    "plt.imshow(labeled_array);"
   ]
  },
  {
   "cell_type": "markdown",
   "metadata": {},
   "source": [
    "Label returns an array the same shape as the input where each \"unique feature has a unique value\", so if you want the indices of the features you use a list comprehension to extract the exact feature indices.  Something like:\n",
    "\n",
    "`label_indices = [(labeled_array[:,:,0] == i).nonzero() for i in xrange(1, num_stars+1)]`\n",
    "\n",
    "or use the `ndi.find_objects` method to obtain a tuple of feature locations as slices to obtain the general location of the star but not necessarily the correct shape."
   ]
  },
  {
   "cell_type": "code",
   "execution_count": null,
   "metadata": {
    "collapsed": false
   },
   "outputs": [],
   "source": [
    "locations = ndi.find_objects(labeled_array)\n",
    "print locations[9]"
   ]
  },
  {
   "cell_type": "code",
   "execution_count": null,
   "metadata": {
    "collapsed": false
   },
   "outputs": [],
   "source": [
    "label_indices = [(labeled_array[:,:,0] == i).nonzero() for i in xrange(1, num_stars+1)]\n",
    "print label_indices[9]"
   ]
  },
  {
   "cell_type": "markdown",
   "metadata": {},
   "source": [
    "Let's change the color of the largest star in the field to red.  To find the largest star, look at the lengths of the arrays stored in `label_indices`."
   ]
  },
  {
   "cell_type": "code",
   "execution_count": null,
   "metadata": {
    "collapsed": false
   },
   "outputs": [],
   "source": [
    "star_sizes = [(label_indices[i-1][0]).size for i in xrange(1, num_stars+1)]\n",
    "print len(star_sizes)"
   ]
  },
  {
   "cell_type": "code",
   "execution_count": null,
   "metadata": {
    "collapsed": false
   },
   "outputs": [],
   "source": [
    "biggest_star = np.where(star_sizes == np.max(star_sizes))[0]\n",
    "print biggest_star"
   ]
  },
  {
   "cell_type": "code",
   "execution_count": null,
   "metadata": {
    "collapsed": false
   },
   "outputs": [],
   "source": [
    "print star_sizes[biggest_star]"
   ]
  },
  {
   "cell_type": "code",
   "execution_count": null,
   "metadata": {
    "collapsed": false
   },
   "outputs": [],
   "source": [
    "bwpic[label_indices[biggest_star][0],label_indices[biggest_star][1],:] = (255,0,0)\n",
    "plt.imshow(bwpic);"
   ]
  },
  {
   "cell_type": "markdown",
   "metadata": {},
   "source": [
    "---"
   ]
  },
  {
   "cell_type": "markdown",
   "metadata": {},
   "source": [
    "## Exercises"
   ]
  },
  {
   "cell_type": "markdown",
   "metadata": {},
   "source": [
    "For fun and practice, you can use these tricks to analyze the whole set of pictures listed at the top of this section.  Suggested activities include:"
   ]
  },
  {
   "cell_type": "markdown",
   "metadata": {},
   "source": [
    "* Find the brightest pixel within each star identified using the `scipy.ndimage.label` function\n",
    "* Draw the image with different colors for identified stars of different brightnesses\n",
    "* Use the `scipy.ndimage.center_of_mass` function to identify the \"location\" of each star in pixel coordinates.\n",
    "* Use NumPy's I/O functions to write out a text file containing\n",
    "\n",
    "   * a **header** which includes\n",
    "      * the link to the image\n",
    "      * the threshold value used in the conversion to monochrome\n",
    "      * the structuring element used to count its stars\n",
    "      * how many stars were found\n",
    "      * a description of the data in the subsequent columns\n",
    "   * a **list of the star data** organized in three columns and formatted for easy reading as follows:\n",
    "      * location (x,y in pixel units)\n",
    "      * maximum brightness value for the star"
   ]
  },
  {
   "cell_type": "markdown",
   "metadata": {},
   "source": [
    "---"
   ]
  },
  {
   "cell_type": "markdown",
   "metadata": {},
   "source": [
    "# Summary:"
   ]
  },
  {
   "cell_type": "markdown",
   "metadata": {},
   "source": [
    "NumPy offers convenient and fast numerical data manipulation with a large body of support libraries.  Use it with large datasets to very quickly slice through the information and extract meaningful results."
   ]
  },
  {
   "cell_type": "markdown",
   "metadata": {},
   "source": [
    "The advantage of using NumPy is all about moving loops into compiled code."
   ]
  },
  {
   "cell_type": "markdown",
   "metadata": {},
   "source": [
    "For more details and documentation, consult the [SciPy lecture series](https://scipy-lectures.github.io/) or the [NumPy/SciPy documentation](http://docs.scipy.org/doc/)."
   ]
  },
  {
   "cell_type": "markdown",
   "metadata": {},
   "source": [
    "---"
   ]
  }
 ],
 "metadata": {
  "kernelspec": {
   "display_name": "Python 2",
   "language": "python",
   "name": "python2"
  },
  "language_info": {
   "codemirror_mode": {
    "name": "ipython",
    "version": 2
   },
   "file_extension": ".py",
   "mimetype": "text/x-python",
   "name": "python",
   "nbconvert_exporter": "python",
   "pygments_lexer": "ipython2",
   "version": "2.7.9"
  }
 },
 "nbformat": 4,
 "nbformat_minor": 0
}
