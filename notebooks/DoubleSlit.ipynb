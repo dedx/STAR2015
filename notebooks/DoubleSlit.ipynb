{
 "cells": [
  {
   "cell_type": "markdown",
   "metadata": {},
   "source": [
    "## Quantum Double-slit Experiment: A Monte Carlo Model"
   ]
  },
  {
   "cell_type": "markdown",
   "metadata": {},
   "source": [
    "Let’s consider the double-slit experiment as an example of the \"Monte Carlo\" simulation technique.  In the lab, we relate the intensity of the observed beam (either photons or electrons) to the sum of the two waves, one from each slit.  Each slit gives us a diffraction pattern,\n",
    "\n",
    "$$ \n",
    "I_{SS_{diffraction}} = \\text{sinc}^2(a x / \\lambda L)\n",
    "$$\n",
    "\n",
    "where $\\text{sinc}(x) = \\sin(\\pi x)/(\\pi x)$ is the [normalized sinc function](http://en.wikipedia.org/wiki/Sinc_function).\n",
    "\n",
    "The double slit, however, is not just the sum of the two single slits, but rather includes an interference term,\n",
    "\n",
    "$$\n",
    "I_{DS_{interference}} = \\cos^2(2\\pi d x/\\lambda L)\n",
    "$$ \n",
    "\n",
    "due to the wave-nature of the photons or electrons. \n",
    "\n",
    "The observed intensity includes both the probability that the diffraction and interference are appreciable.\n",
    "\n",
    "$$\n",
    "I_{DS_{total}} = I_{SS_{diffraction}} * I_{DS_{interference}}\n",
    "$$"
   ]
  },
  {
   "cell_type": "markdown",
   "metadata": {},
   "source": [
    "\n",
    "\n",
    "<table>\n",
    "<tr>\n",
    "<td>\n",
    "Here is a diagram to illustrate the concept and define the variables.\n",
    "<img src = \"../img/QuantumDoubleSlit.png\" width = 300>\n",
    "</td>\n",
    "<td>The intensity on the screen will look something like this:\n",
    "<img src = \"../img/DSIntensity.png\" width = 400></td>\n",
    "</tr>\n",
    "</table>"
   ]
  },
  {
   "cell_type": "markdown",
   "metadata": {},
   "source": [
    "Now, let’s do the quantum mechanics problem.  What if we let just one photon or electron pass through the slit at a time?   What would we see on the screen?  \n",
    "\n",
    "Instead of seeing the addition of waves, we’d see the location of the *individual* photon or electron.   Because $E = h\\nu$, the intensity plotted above is also the un-normalized probability distribution of finding a photon or electron at any single location.  \n",
    "\n",
    "To simulate this experiment, we’ll define the experimental parameters, create the probability distribution,  and then throw random numbers to distribute photons based on their probability.  To make it awesome, we'll set the parameters up as an interactive widget so we can explore the system in detail.\n",
    "\n",
    "Let the initial distance between the slits $d$ = 15 $\\mu$m and the slit width $a$ = 10 $\\mu$m.  The screen is 1 m from the plate with the slits.  We will use a He-Neon laser with wavelength $\\lambda$ = 632.8 nm.  The screen size is (0.2 $\\times$ 0.2) m.\n",
    "\n",
    "We can set up the probability distribution for this situation and use a Monte-Carlo simulation technique to generate $N$ photons in the range (0,10000).\n"
   ]
  },
  {
   "cell_type": "code",
   "execution_count": null,
   "metadata": {
    "collapsed": false
   },
   "outputs": [],
   "source": [
    "%pylab inline\n",
    "import numpy as np\n",
    "import matplotlib.pyplot as plot\n",
    "from scipy.integrate import trapz,cumtrapz\n",
    "from IPython.html.widgets import interact, interactive"
   ]
  },
  {
   "cell_type": "code",
   "execution_count": null,
   "metadata": {
    "collapsed": false
   },
   "outputs": [],
   "source": [
    "def distribute1D(x,prob,N):\n",
    "    \"\"\"takes any distribution which is directly proportional \n",
    "    to the number of particles, and returns data that is \n",
    "    statistically the same as the input data.\"\"\"\n",
    "    CDF = cumtrapz(prob)/np.sum(prob)\n",
    "    xsamples = np.zeros(N,float)\n",
    "    for i in range(0,N):\n",
    "        r = np.random.ranf()\n",
    "        xsamples[i] = x[CDF.searchsorted(r)]\n",
    "    return xsamples"
   ]
  },
  {
   "cell_type": "markdown",
   "metadata": {},
   "source": [
    "Now define the `double_slit` function and make it interactive:"
   ]
  },
  {
   "cell_type": "code",
   "execution_count": null,
   "metadata": {
    "collapsed": false
   },
   "outputs": [],
   "source": [
    "#Quantum double-slit\n",
    "#define the experimental parameters\n",
    "#d = 15.  # (micron) dist. between slits\n",
    "#a = 10.  # (micron) slit width. \n",
    "#L = 1.   # (m) dist. from slit to screen\n",
    "#lam = 632.8  # (nm) He-Neon laser\n",
    "\n",
    "def double_slit(d=15.,a=10.,L=3.,lam=632.8,N=0):\n",
    "\n",
    "    #convert d and a in microns to meters\n",
    "    dm = d*1.e-6\n",
    "    am = a*1.e-6\n",
    "\n",
    "    #convert wavelength from nm to m\n",
    "    wave=lam*1.e-9\n",
    "\n",
    "    # create the probability distribution\n",
    "    x = np.linspace(-0.2,0.2,10000)    \n",
    "    #Isingle = np.sin(np.pi*am*x/wave/L)**2./(np.pi*am*x/wave/L)**2\n",
    "    Isingle = np.sinc(am*x/wave/L)**2.\n",
    "    Idouble = (np.cos(2*np.pi*dm*x/wave/L)**2)\n",
    "    Itot = Isingle*Idouble\n",
    "\n",
    "    #generate the random photon locations on the screen\n",
    "    #x according to the intensity distribution\n",
    "    xsamples = distribute1D(x,Itot,N)\n",
    "    #y randomly over the full screen height\n",
    "    ysamples = -0.2 + 0.4*np.random.ranf(N)\n",
    "    \n",
    "    #Make subplot of the intensity and the screen distribution\n",
    "    fig = plt.figure(1,(10,6))\n",
    "    plt.subplot(2,1,1)\n",
    "    plt.plot(x,Itot)\n",
    "    plt.xlim(-0.2,0.2)\n",
    "    plt.ylim(0.,1.2)\n",
    "    plt.ylabel(\"Intensity\",fontsize=20)\n",
    "\n",
    "    plt.subplot(2,1,2)\n",
    "    plt.xlim(-0.2,0.2)\n",
    "    plt.ylim(-0.2,0.2)\n",
    "    plt.scatter(xsamples,ysamples)\n",
    "    plt.xlabel(\"x (m)\",fontsize=20)\n",
    "    plt.ylabel(\"y (m)\",fontsize=20)\n",
    "\n",
    "v5 = interact(double_slit,d=(1.,20.,1.), a=(5,50.,1.), L=(1.0,3.0),\n",
    "                 lam=(435.,700.),N=(0,10000))"
   ]
  },
  {
   "cell_type": "markdown",
   "metadata": {},
   "source": [
    "Observe how the interference pattern builds up as more photons are added.  Does it evolve like you'd expect?  What effect does varying each of the parameters have on the shape of the distributions?"
   ]
  },
  {
   "cell_type": "markdown",
   "metadata": {},
   "source": [
    "---"
   ]
  }
 ],
 "metadata": {
  "kernelspec": {
   "display_name": "Python 2",
   "language": "python",
   "name": "python2"
  },
  "language_info": {
   "codemirror_mode": {
    "name": "ipython",
    "version": 2
   },
   "file_extension": ".py",
   "mimetype": "text/x-python",
   "name": "python",
   "nbconvert_exporter": "python",
   "pygments_lexer": "ipython2",
   "version": "2.7.9"
  }
 },
 "nbformat": 4,
 "nbformat_minor": 0
}
